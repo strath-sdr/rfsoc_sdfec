{
 "cells": [
  {
   "cell_type": "markdown",
   "id": "5491bec0-bb2f-4f4e-8191-4b209d08e501",
   "metadata": {},
   "source": [
    "# Forward Error Correction Bit Error Analysis"
   ]
  }
 ],
 "metadata": {
  "kernelspec": {
   "display_name": "Python 3",
   "language": "python",
   "name": "python3"
  },
  "language_info": {
   "codemirror_mode": {
    "name": "ipython",
    "version": 3
   },
   "file_extension": ".py",
   "mimetype": "text/x-python",
   "name": "python",
   "nbconvert_exporter": "python",
   "pygments_lexer": "ipython3",
   "version": "3.8.2"
  }
 },
 "nbformat": 4,
 "nbformat_minor": 5
}
