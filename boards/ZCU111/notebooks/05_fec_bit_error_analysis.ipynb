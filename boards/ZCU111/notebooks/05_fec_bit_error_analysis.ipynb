{
 "cells": [
  {
   "cell_type": "markdown",
   "id": "5491bec0-bb2f-4f4e-8191-4b209d08e501",
   "metadata": {},
   "source": [
    "# Forward Error Correction Bit Error Analysis"
   ]
  },
  {
   "cell_type": "code",
   "execution_count": 1,
   "id": "eef520f4-b9c4-4ec5-89f4-a69734fa50ec",
   "metadata": {},
   "outputs": [
    {
     "data": {
      "application/javascript": [
       "\n",
       "try {\n",
       "require(['notebook/js/codecell'], function(codecell) {\n",
       "  codecell.CodeCell.options_default.highlight_modes[\n",
       "      'magic_text/x-csrc'] = {'reg':[/^%%microblaze/]};\n",
       "  Jupyter.notebook.events.one('kernel_ready.Kernel', function(){\n",
       "      Jupyter.notebook.get_cells().map(function(cell){\n",
       "          if (cell.cell_type == 'code'){ cell.auto_highlight(); } }) ;\n",
       "  });\n",
       "});\n",
       "} catch (e) {};\n"
      ]
     },
     "metadata": {},
     "output_type": "display_data"
    },
    {
     "data": {
      "application/javascript": [
       "\n",
       "try {\n",
       "require(['notebook/js/codecell'], function(codecell) {\n",
       "  codecell.CodeCell.options_default.highlight_modes[\n",
       "      'magic_text/x-csrc'] = {'reg':[/^%%pybind11/]};\n",
       "  Jupyter.notebook.events.one('kernel_ready.Kernel', function(){\n",
       "      Jupyter.notebook.get_cells().map(function(cell){\n",
       "          if (cell.cell_type == 'code'){ cell.auto_highlight(); } }) ;\n",
       "  });\n",
       "});\n",
       "} catch (e) {};\n"
      ]
     },
     "metadata": {},
     "output_type": "display_data"
    }
   ],
   "source": [
    "from pynq import Overlay\n",
    "import numpy as np\n",
    "import xsdfec\n",
    "\n",
    "from helper_functions import *\n",
    "\n",
    "ol = Overlay('bitstream/ldpc_loopback.bit')"
   ]
  },
  {
   "cell_type": "code",
   "execution_count": 2,
   "id": "26639edb-dbd9-4fe5-b88e-49c2dda1d122",
   "metadata": {},
   "outputs": [
    {
     "name": "stdout",
     "output_type": "stream",
     "text": [
      "Adding LDPC code parameters to \"ldpc_encoder/sd_fec\" internal memory.\n",
      "\n",
      "Status     Code ID    SC Offset  LA Offset  QC Offset  Code Name \n",
      "------     ------     ------     ------     ------     ------    \n",
      "Loaded     0          0          0          0          docsis_short\n",
      "Loaded     1          2          2          21         docsis_medium\n",
      "Loaded     2          4          4          54         docsis_long\n",
      "Loaded     3          6          6          97         docsis_init_ranging\n",
      "Loaded     4          8          8          112        docsis_fine_ranging\n",
      "Loaded     5          9          9          120        wifi802_11_cr1_2_648\n",
      "Loaded     6          15         15         196        wifi802_11_cr1_2_1296\n",
      "Loaded     7          21         21         240        wifi802_11_cr1_2_1944\n",
      "Loaded     8          27         27         270        wifi802_11_cr2_3_648\n",
      "Loaded     9          31         31         324        wifi802_11_cr2_3_1296\n",
      "Loaded     10         35         35         360        wifi802_11_cr2_3_1944\n",
      "Loaded     11         39         39         388        wifi802_11_cr3_4_648\n",
      "Loaded     12         42         42         436        wifi802_11_cr3_4_1296\n",
      "Loaded     13         45         45         473        wifi802_11_cr3_4_1944\n",
      "\n",
      "Not enough space for QC table: wifi802_11_cr5_6_648. Terminating.\n",
      "Created TX buffer, size  105\n",
      "Created RX buffer, size  140\n",
      "\n",
      "Control\n",
      "-------\n",
      "ID:  0\n",
      "Max Iter:  0\n",
      "Term No Change:  0\n",
      "Term Pass:  0\n",
      "Parity Pass:  0\n",
      "Hard OP:  0\n",
      "Code:  0\n",
      "Binary:  00000000000000000000000000000000\n",
      "\n",
      "Status\n",
      "------\n",
      "Code ID:  0\n",
      "Hard Output:  1\n",
      "Operation:  1\n",
      "Code Name:  0\n",
      "\n",
      "Encoding successful [docsis_short]\n",
      "\n",
      "Desired SNR: 15 dB\n",
      "Var Signal:  9.966326530612244\n",
      "Var Noise:  0.3151629174169853\n",
      "SNR (ratio):  31.622776601683793\n",
      "Measured SNR:  15.053475880939965\n",
      "Adding LDPC code parameters to \"ldpc_decoder/sd_fec\" internal memory.\n",
      "\n",
      "Status     Code ID    SC Offset  LA Offset  QC Offset  Code Name \n",
      "------     ------     ------     ------     ------     ------    \n",
      "Loaded     0          0          0          0          docsis_short\n",
      "Loaded     1          2          2          21         docsis_medium\n",
      "Loaded     2          4          4          54         docsis_long\n",
      "Loaded     3          6          6          97         docsis_init_ranging\n",
      "Loaded     4          8          8          112        docsis_fine_ranging\n",
      "Loaded     5          9          9          120        wifi802_11_cr1_2_648\n",
      "Loaded     6          12         12         163        wifi802_11_cr1_2_1296\n",
      "Loaded     7          15         15         191        wifi802_11_cr1_2_1944\n",
      "Loaded     8          18         18         213        wifi802_11_cr2_3_648\n",
      "Loaded     9          20         20         246        wifi802_11_cr2_3_1296\n",
      "Loaded     10         22         22         272        wifi802_11_cr2_3_1944\n",
      "Loaded     11         24         24         294        wifi802_11_cr3_4_648\n",
      "Loaded     12         26         26         323        wifi802_11_cr3_4_1296\n",
      "Loaded     13         28         28         354        wifi802_11_cr3_4_1944\n",
      "Loaded     14         30         30         376        wifi802_11_cr5_6_648\n",
      "Loaded     15         31         31         400        wifi802_11_cr5_6_1296\n",
      "Loaded     16         32         32         422        wifi802_11_cr5_6_1944\n",
      "Loaded     17         33         33         442        5g_graph1_set1_l5_p32\n",
      "Loaded     18         35         35         468        5g_graph1_set1_l5_p64\n",
      "Loaded     19         37         37         490        5g_graph1_set1_l5_p128\n",
      "\n",
      "Not enough space for QC table: 5g_graph1_set1_l5_p256. Terminating.\n",
      "Created TX buffer, size  1120\n",
      "Created RX buffer, size  105\n",
      "\n",
      "Control\n",
      "-------\n",
      "ID:  0\n",
      "Max Iter:  24\n",
      "Term No Change:  1\n",
      "Term Pass:  1\n",
      "Parity Pass:  0\n",
      "Hard OP:  1\n",
      "Code:  0\n",
      "Binary:  00000000011000110100000000000000\n"
     ]
    },
    {
     "data": {
      "image/png": "[encoded data removed]",
      "text/plain": [
       "<Figure size 432x288 with 1 Axes>"
      ]
     },
     "metadata": {
      "needs_background": "light"
     },
     "output_type": "display_data"
    }
   ],
   "source": [
    "# Encode\n",
    "e_fec = ol.ldpc_encoder.sd_fec\n",
    "e_dma_data = ol.ldpc_encoder.axi_dma_data\n",
    "e_dma_ctrl = ol.ldpc_encoder.axi_dma_ctrl\n",
    "\n",
    "ldpc_params = e_fec.available_ldpc_params()\n",
    "add_multiple_ldpc_params(e_fec, ldpc_params)\n",
    "\n",
    "code_name = 'docsis_short'\n",
    "code_id = ldpc_params.index(code_name)\n",
    "\n",
    "e_tx_buffer = create_tx_buffer(e_fec, code_name, ldpc_params)\n",
    "e_rx_buffer = create_rx_buffer(e_fec, code_name, ldpc_params)\n",
    "e_ctrl_buffer = create_ctrl_buffer()\n",
    "e_status_buffer = create_status_buffer()\n",
    "\n",
    "for i in range(len(e_tx_buffer))[::4]:\n",
    "    e_tx_buffer[i] = np.random.randint(1,255)\n",
    "\n",
    "ctrl_params = {'id' : 0, 'code' : code_id}\n",
    "set_ctrl_reg(e_dma_ctrl, e_ctrl_buffer, ctrl_params)\n",
    "e_rx_buffer = transfer_data(e_dma_data, e_tx_buffer, e_rx_buffer)\n",
    "e_status_buffer = get_status_reg(e_dma_ctrl, e_status_buffer)\n",
    "\n",
    "check_encoding(e_fec, e_tx_buffer, e_rx_buffer, code_name, ldpc_params)\n",
    "\n",
    "# Channel\n",
    "SNR = 15\n",
    "hard_binary = serialise_data(e_rx_buffer)\n",
    "signal = modulate(hard_binary, plot=True)\n",
    "signal_with_noise = add_noise(signal, SNR, plot=True)\n",
    "llrs = soft_demodulate(signal_with_noise)\n",
    "llrs_formatted = format_llrs(llrs)\n",
    "\n",
    "# Decode\n",
    "d_fec = ol.ldpc_decoder.sd_fec\n",
    "d_dma_data = ol.ldpc_decoder.axi_dma_data\n",
    "d_dma_ctrl = ol.ldpc_decoder.axi_dma_ctrl\n",
    "\n",
    "ldpc_params = d_fec.available_ldpc_params()\n",
    "add_multiple_ldpc_params(d_fec, ldpc_params)\n",
    "\n",
    "code_id = ldpc_params.index(code_name)\n",
    "\n",
    "d_tx_buffer = create_tx_buffer(d_fec, code_name, ldpc_params)\n",
    "d_rx_buffer = create_rx_buffer(d_fec, code_name, ldpc_params)\n",
    "d_ctrl_buffer = create_ctrl_buffer()\n",
    "d_status_buffer = create_status_buffer()\n",
    "\n",
    "j = 0\n",
    "for i in range(len(d_tx_buffer))[::4]:\n",
    "    d_tx_buffer[i] = llrs_formatted[j]\n",
    "    j += 1\n",
    "    \n",
    "ctrl_params = {'id' : 0, \n",
    "               'max_iterations' : 24,\n",
    "               'term_on_no_change' : 1,\n",
    "               'term_on_pass' : 1, \n",
    "               'include_parity_op' : 0,\n",
    "               'hard_op' : 1,\n",
    "               'code' : code_id}\n",
    "set_ctrl_reg(d_dma_ctrl, d_ctrl_buffer, ctrl_params)\n",
    "d_rx_buffer = transfer_data(d_dma_data, d_tx_buffer, d_rx_buffer)\n",
    "# d_status_buffer = get_status_reg(d_dma_ctrl, d_status_buffer)"
   ]
  },
  {
   "cell_type": "code",
   "execution_count": 3,
   "id": "46c8763f-31ad-4660-a1fd-fa25de357e63",
   "metadata": {},
   "outputs": [
    {
     "name": "stdout",
     "output_type": "stream",
     "text": [
      "True\n",
      "[ True  True  True  True  True  True  True  True  True  True  True  True\n",
      "  True  True  True  True  True  True  True  True  True  True  True  True\n",
      "  True  True  True  True  True  True  True  True  True  True  True  True\n",
      "  True  True  True  True  True  True  True  True  True  True  True  True\n",
      "  True  True  True  True  True  True  True  True  True  True  True  True\n",
      "  True  True  True  True  True  True  True  True  True  True  True  True\n",
      "  True  True  True  True  True  True  True  True  True  True  True  True\n",
      "  True  True  True  True  True  True  True  True  True  True  True  True\n",
      "  True  True  True  True  True  True  True  True  True]\n"
     ]
    }
   ],
   "source": [
    "# for i in range(len(e_tx_buffer[::4])):\n",
    "#     print(e_tx_buffer[i*4], d_rx_buffer[i*4])\n",
    "    \n",
    "print((e_tx_buffer[::4] == d_rx_buffer[::4]).all())\n",
    "print((e_tx_buffer[::4] == d_rx_buffer[::4]))"
   ]
  }
 ],
 "metadata": {
  "kernelspec": {
   "display_name": "Python 3",
   "language": "python",
   "name": "python3"
  },
  "language_info": {
   "codemirror_mode": {
    "name": "ipython",
    "version": 3
   },
   "file_extension": ".py",
   "mimetype": "text/x-python",
   "name": "python",
   "nbconvert_exporter": "python",
   "pygments_lexer": "ipython3",
   "version": "3.8.2"
  }
 },
 "nbformat": 4,
 "nbformat_minor": 5
}
