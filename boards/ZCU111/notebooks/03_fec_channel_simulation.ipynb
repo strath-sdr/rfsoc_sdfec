{
 "cells": [
  {
   "cell_type": "markdown",
   "id": "a69ea515-9146-4d42-bad6-005f159ccf8e",
   "metadata": {},
   "source": [
    "# Forward Error Correction Channel Simulation"
   ]
  },
  {
   "cell_type": "code",
   "execution_count": 1,
   "id": "e01e595b-a2ec-4604-9559-dcf147a8702a",
   "metadata": {},
   "outputs": [
    {
     "data": {
      "application/javascript": [
       "\n",
       "try {\n",
       "require(['notebook/js/codecell'], function(codecell) {\n",
       "  codecell.CodeCell.options_default.highlight_modes[\n",
       "      'magic_text/x-csrc'] = {'reg':[/^%%microblaze/]};\n",
       "  Jupyter.notebook.events.one('kernel_ready.Kernel', function(){\n",
       "      Jupyter.notebook.get_cells().map(function(cell){\n",
       "          if (cell.cell_type == 'code'){ cell.auto_highlight(); } }) ;\n",
       "  });\n",
       "});\n",
       "} catch (e) {};\n"
      ]
     },
     "metadata": {},
     "output_type": "display_data"
    },
    {
     "data": {
      "application/javascript": [
       "\n",
       "try {\n",
       "require(['notebook/js/codecell'], function(codecell) {\n",
       "  codecell.CodeCell.options_default.highlight_modes[\n",
       "      'magic_text/x-csrc'] = {'reg':[/^%%pybind11/]};\n",
       "  Jupyter.notebook.events.one('kernel_ready.Kernel', function(){\n",
       "      Jupyter.notebook.get_cells().map(function(cell){\n",
       "          if (cell.cell_type == 'code'){ cell.auto_highlight(); } }) ;\n",
       "  });\n",
       "});\n",
       "} catch (e) {};\n"
      ]
     },
     "metadata": {},
     "output_type": "display_data"
    }
   ],
   "source": [
    "import matplotlib.pyplot as plt\n",
    "import numpy as np\n",
    "\n",
    "%store -r rx_buffer pad"
   ]
  },
  {
   "cell_type": "code",
   "execution_count": 2,
   "id": "f2c05091-2aea-475a-bba1-1e4caa28fd7f",
   "metadata": {},
   "outputs": [
    {
     "name": "stdout",
     "output_type": "stream",
     "text": [
      "1000110101101000100100111110010110010011010000011101011000001000110001011001110000010001101100110010011111111001011010001111000101011110001110000001110110011011010100101110001001100010010000111101110110101101000010111000011101101111101101101000101110101111001111001011110111000101000101110010101100111111000000110100101101010001010011101010101001001011010111110101111110010000001001101010000000100000100101000011010001101101100010101000110000010010111100110010110011011110111010100010000011100011111000010000100110010100000001011011111001101001000010010011111111100010000111101100010011100110011111110111111101101000000101011010110101100011010000111101001111101001111100001010101011101110100011101100100010110101011111000011000010111111001101110101010110000011011110110011000001010111100111000111110011010001010011100100001111100010011011101001101010100010110100001001011110001011011001010110100000110110000110000100111011100000011000011111011010101001000111001000001101000101111010010111100011110100010001111000101111100110100001111110010010100000110000101001000100011101110011111110010100000000000011001001000100011001\n"
     ]
    }
   ],
   "source": [
    "hard_data = rx_buffer[::pad]\n",
    "\n",
    "hard_binary = ''\n",
    "for hd in hard_data:\n",
    "    h_bin = '{0:08b}'.format(hd)\n",
    "    hard_binary += h_bin[::-1] # Decoder accepts LSB first\n",
    "    \n",
    "print(hard_binary)"
   ]
  },
  {
   "cell_type": "code",
   "execution_count": 3,
   "id": "f4c28fac-8353-48c5-ad1f-52f34dd7b7e5",
   "metadata": {
    "tags": []
   },
   "outputs": [
    {
     "data": {
      "text/plain": [
       "<function matplotlib.pyplot.show(*args, **kw)>"
      ]
     },
     "execution_count": 3,
     "metadata": {},
     "output_type": "execute_result"
    },
    {
     "data": {
      "image/png": "[encoded data removed]",
      "text/plain": [
       "<Figure size 432x288 with 1 Axes>"
      ]
     },
     "metadata": {
      "needs_background": "light"
     },
     "output_type": "display_data"
    }
   ],
   "source": [
    "L = 4 # Symbol length - 16-QAM\n",
    "    \n",
    "mod_I = np.empty(0)\n",
    "mod_Q = np.empty(0)\n",
    "for i in range(0, len(hard_binary), L):\n",
    "    symbol = hard_binary[i : i+L]\n",
    "    \n",
    "    b0b1 = symbol[0:2]\n",
    "    b2b3 = symbol[2:4]\n",
    "\n",
    "    if b0b1 == '00':\n",
    "        I = -3\n",
    "    elif b0b1 == '01':\n",
    "        I = -1\n",
    "    elif b0b1 == '11':\n",
    "        I = 1\n",
    "    elif b0b1 == '10':\n",
    "        I = 3\n",
    "\n",
    "    if b2b3 == '00':\n",
    "        Q = -3\n",
    "    elif b2b3 == '01':\n",
    "        Q = -1\n",
    "    elif b2b3 == '11':\n",
    "        Q = 1\n",
    "    elif b2b3 == '10':\n",
    "        Q = 3\n",
    "        \n",
    "    mod_I = np.append(mod_I, I)\n",
    "    mod_Q = np.append(mod_Q, Q)\n",
    "\n",
    "plt.scatter(mod_I, mod_Q)\n",
    "plt.show"
   ]
  },
  {
   "cell_type": "code",
   "execution_count": 4,
   "id": "c47e892f-3065-4c50-834a-af8cb1ebc879",
   "metadata": {},
   "outputs": [
    {
     "name": "stdout",
     "output_type": "stream",
     "text": [
      "Desired SNR: 20 dB\n",
      "Var Signal:  10.169591836734694\n",
      "Var Noise:  0.10169591836734694\n",
      "SNR (ratio):  100.0\n",
      "Measured SNR:  20.412384362658656\n"
     ]
    },
    {
     "data": {
      "text/plain": [
       "<function matplotlib.pyplot.show(*args, **kw)>"
      ]
     },
     "execution_count": 4,
     "metadata": {},
     "output_type": "execute_result"
    },
    {
     "data": {
      "image/png": "[encoded data removed]",
      "text/plain": [
       "<Figure size 432x288 with 1 Axes>"
      ]
     },
     "metadata": {
      "needs_background": "light"
     },
     "output_type": "display_data"
    }
   ],
   "source": [
    "signal = mod_I + 1j*mod_Q\n",
    "\n",
    "# Calculate nosie power\n",
    "SNR = 20 # SNR dB\n",
    "snr = 10**(SNR/10) # SNR ratio\n",
    "var_signal = np.var(signal) # power\n",
    "var_noise = var_signal / snr\n",
    "print('Desired SNR: %d dB' % SNR)\n",
    "print('Var Signal: ', var_signal)\n",
    "print('Var Noise: ' ,var_noise)\n",
    "print('SNR (ratio): ', var_signal/var_noise)\n",
    "\n",
    "# Generate noise\n",
    "noise_len = len(signal)\n",
    "noise_mean = 0\n",
    "noise = (np.random.normal(noise_mean,np.sqrt(2)/2,noise_len) \n",
    "         + 1j*np.random.normal(noise_mean,np.sqrt(2)/2,noise_len))\n",
    "noise_scaled = noise * np.sqrt(var_noise)\n",
    "\n",
    "# Add noise to signal\n",
    "signal_with_noise = signal + noise_scaled\n",
    "\n",
    "# Measure SNR to verify\n",
    "power_signal = 10*np.log10(np.var(signal))\n",
    "power_noise = 10*np.log10(np.mean(np.abs(signal - signal_with_noise)**2))\n",
    "print('Measured SNR: ', power_signal - power_noise)\n",
    "\n",
    "# Plot signal with noise\n",
    "x = [n.real for n in signal_with_noise]\n",
    "y = [n.imag for n in signal_with_noise]   \n",
    "\n",
    "plt.scatter(x, y,s=1)\n",
    "plt.ylabel('Quadrature Amplitude')\n",
    "plt.xlabel('In-phase Amplitude')\n",
    "plt.title('Constellation Plot')\n",
    "plt.rcParams['figure.figsize'] = [3, 3]\n",
    "plt.rcParams['figure.dpi'] = 300\n",
    "plt.show"
   ]
  },
  {
   "cell_type": "markdown",
   "id": "a205ca76-170b-4530-9126-78c5fef14508",
   "metadata": {},
   "source": [
    "the LLR is (2 * r)/sigma^2 where r is the received symbol and sigma^2 is the noise power"
   ]
  },
  {
   "cell_type": "code",
   "execution_count": 5,
   "id": "f1dffa21-a943-4a3e-a661-03874ed105f8",
   "metadata": {},
   "outputs": [],
   "source": [
    "llrs = []\n",
    "for y in signal_with_noise:\n",
    "    # Bit 0\n",
    "    if y.real < -2:\n",
    "        b0 = 2*(y.real+1)\n",
    "    elif y.real >= -2 and y.real < 2:\n",
    "        b0 = y.real\n",
    "    elif y.real > 2:\n",
    "        b0 = 2*(y.real-1)\n",
    "        \n",
    "    # Bit 1\n",
    "    b1 = -abs(y.real)+2\n",
    "    \n",
    "    # Bit 2\n",
    "    if y.imag < -2:\n",
    "        b2 = 2*(y.imag+1)\n",
    "    elif y.imag >= -2 and y.imag < 2:\n",
    "        b2 = y.imag\n",
    "    elif y.imag > 2:\n",
    "        b2 = 2*(y.imag-1) \n",
    "        \n",
    "    # Bit 3\n",
    "    b3 = -abs(y.imag)+2\n",
    "    \n",
    "    llrs.append(b0)\n",
    "    llrs.append(b1)\n",
    "    llrs.append(b2)\n",
    "    llrs.append(b3)"
   ]
  },
  {
   "cell_type": "code",
   "execution_count": 6,
   "id": "f3e78686-0801-4aed-9e16-0040b74c7cba",
   "metadata": {},
   "outputs": [
    {
     "name": "stdout",
     "output_type": "stream",
     "text": [
      "Stored 'llrs' (list)\n"
     ]
    }
   ],
   "source": [
    "%store llrs"
   ]
  },
  {
   "cell_type": "code",
   "execution_count": null,
   "id": "1c4852a2-c803-46cd-be0f-f662e90a0f54",
   "metadata": {},
   "outputs": [],
   "source": []
  }
 ],
 "metadata": {
  "kernelspec": {
   "display_name": "Python 3",
   "language": "python",
   "name": "python3"
  },
  "language_info": {
   "codemirror_mode": {
    "name": "ipython",
    "version": 3
   },
   "file_extension": ".py",
   "mimetype": "text/x-python",
   "name": "python",
   "nbconvert_exporter": "python",
   "pygments_lexer": "ipython3",
   "version": "3.8.2"
  }
 },
 "nbformat": 4,
 "nbformat_minor": 5
}
