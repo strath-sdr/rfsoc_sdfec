{
 "cells": [
  {
   "cell_type": "markdown",
   "id": "a69ea515-9146-4d42-bad6-005f159ccf8e",
   "metadata": {},
   "source": [
    "# Forward Error Correction Channel Simulation"
   ]
  },
  {
   "cell_type": "markdown",
   "id": "5db400bf-e9c3-4bf4-83b3-5a25f2f2f85d",
   "metadata": {},
   "source": [
    "Load in the encoded data."
   ]
  },
  {
   "cell_type": "code",
   "execution_count": 1,
   "id": "e01e595b-a2ec-4604-9559-dcf147a8702a",
   "metadata": {},
   "outputs": [
    {
     "data": {
      "application/javascript": [
       "\n",
       "try {\n",
       "require(['notebook/js/codecell'], function(codecell) {\n",
       "  codecell.CodeCell.options_default.highlight_modes[\n",
       "      'magic_text/x-csrc'] = {'reg':[/^%%microblaze/]};\n",
       "  Jupyter.notebook.events.one('kernel_ready.Kernel', function(){\n",
       "      Jupyter.notebook.get_cells().map(function(cell){\n",
       "          if (cell.cell_type == 'code'){ cell.auto_highlight(); } }) ;\n",
       "  });\n",
       "});\n",
       "} catch (e) {};\n"
      ]
     },
     "metadata": {},
     "output_type": "display_data"
    },
    {
     "data": {
      "application/javascript": [
       "\n",
       "try {\n",
       "require(['notebook/js/codecell'], function(codecell) {\n",
       "  codecell.CodeCell.options_default.highlight_modes[\n",
       "      'magic_text/x-csrc'] = {'reg':[/^%%pybind11/]};\n",
       "  Jupyter.notebook.events.one('kernel_ready.Kernel', function(){\n",
       "      Jupyter.notebook.get_cells().map(function(cell){\n",
       "          if (cell.cell_type == 'code'){ cell.auto_highlight(); } }) ;\n",
       "  });\n",
       "});\n",
       "} catch (e) {};\n"
      ]
     },
     "metadata": {},
     "output_type": "display_data"
    }
   ],
   "source": [
    "import matplotlib.pyplot as plt\n",
    "import numpy as np\n",
    "\n",
    "%store -r rx_buffer"
   ]
  },
  {
   "cell_type": "markdown",
   "id": "a7ec2dea-4fe5-4dad-933c-79a7f1455c24",
   "metadata": {},
   "source": []
  },
  {
   "cell_type": "code",
   "execution_count": 2,
   "id": "f2c05091-2aea-475a-bba1-1e4caa28fd7f",
   "metadata": {},
   "outputs": [
    {
     "name": "stdout",
     "output_type": "stream",
     "text": [
      "1000111100000111110100000111100001000101011101010100100110001110100110011011010011110010011101110000011000010010001111100001000101110001111101110010111110001010011011110110001101111110111100000111100010101011110111011110111001111011010000100011110010101000101011100001001110011100100000110100011001101001011100101000111001010011111100101100111110011010110111011011101110110111110101001101100110100001101000100111101001011001001000100101111001011100000110111111100011101101011011100010110010111000011000010110011001011111000100110011111100100100111101101000011010000101001111100011000101111100010101000010001101101111001011111101110111001111101100100000001100001101011011011001101110010010011000101000110010001011100011111110110001011000100000110001000010111101111101010110101110001101100001101000100011110011001000110011100111011111000011101001100111000010010111011001000110001101110011010101001000100000101111000001001000100011001110111001001010000001111001110011100101010000110010001001011001101100100110101101011101111011000111101000111000100010100111010100101100100110001101000011101111101011111101111110001001001100\n"
     ]
    }
   ],
   "source": [
    "hard_data = rx_buffer\n",
    "\n",
    "hard_binary = ''\n",
    "for hd in hard_data:\n",
    "    h_bin = '{0:08b}'.format(hd)\n",
    "    hard_binary += h_bin[::-1] # Decoder accepts LSB first\n",
    "    \n",
    "print(hard_binary)"
   ]
  },
  {
   "cell_type": "markdown",
   "id": "7c1d281b-12ed-4bc8-bf33-14824a70034f",
   "metadata": {},
   "source": [
    "Perform 16-QAM modulation"
   ]
  },
  {
   "cell_type": "code",
   "execution_count": 3,
   "id": "f4c28fac-8353-48c5-ad1f-52f34dd7b7e5",
   "metadata": {
    "tags": []
   },
   "outputs": [
    {
     "data": {
      "text/plain": [
       "<function matplotlib.pyplot.show(*args, **kw)>"
      ]
     },
     "execution_count": 3,
     "metadata": {},
     "output_type": "execute_result"
    },
    {
     "data": {
      "image/png": "[encoded data removed]",
      "text/plain": [
       "<Figure size 432x288 with 1 Axes>"
      ]
     },
     "metadata": {
      "needs_background": "light"
     },
     "output_type": "display_data"
    }
   ],
   "source": [
    "L = 4 # Symbol length - 16-QAM\n",
    "    \n",
    "mod_I = np.empty(0)\n",
    "mod_Q = np.empty(0)\n",
    "for i in range(0, len(hard_binary), L):\n",
    "    symbol = hard_binary[i : i+L]\n",
    "    \n",
    "    b0b1 = symbol[0:2]\n",
    "    b2b3 = symbol[2:4]\n",
    "\n",
    "    if b0b1 == '00':\n",
    "        I = -3\n",
    "    elif b0b1 == '01':\n",
    "        I = -1\n",
    "    elif b0b1 == '11':\n",
    "        I = 1\n",
    "    elif b0b1 == '10':\n",
    "        I = 3\n",
    "\n",
    "    if b2b3 == '00':\n",
    "        Q = -3\n",
    "    elif b2b3 == '01':\n",
    "        Q = -1\n",
    "    elif b2b3 == '11':\n",
    "        Q = 1\n",
    "    elif b2b3 == '10':\n",
    "        Q = 3\n",
    "        \n",
    "    mod_I = np.append(mod_I, I)\n",
    "    mod_Q = np.append(mod_Q, Q)\n",
    "\n",
    "plt.scatter(mod_I, mod_Q)\n",
    "plt.show"
   ]
  },
  {
   "cell_type": "markdown",
   "id": "de7f9366-2076-4e0f-bec4-9d4a41714224",
   "metadata": {},
   "source": [
    "Simulate an AWGN channel."
   ]
  },
  {
   "cell_type": "code",
   "execution_count": 4,
   "id": "c47e892f-3065-4c50-834a-af8cb1ebc879",
   "metadata": {},
   "outputs": [
    {
     "name": "stdout",
     "output_type": "stream",
     "text": [
      "Desired SNR: 20 dB\n",
      "Var Signal:  9.94362244897959\n",
      "Var Noise:  0.0994362244897959\n",
      "SNR (ratio):  100.0\n",
      "Measured SNR:  19.707484533708183\n"
     ]
    },
    {
     "data": {
      "text/plain": [
       "<function matplotlib.pyplot.show(*args, **kw)>"
      ]
     },
     "execution_count": 4,
     "metadata": {},
     "output_type": "execute_result"
    },
    {
     "data": {
      "image/png": "[encoded data removed]",
      "text/plain": [
       "<Figure size 432x288 with 1 Axes>"
      ]
     },
     "metadata": {
      "needs_background": "light"
     },
     "output_type": "display_data"
    }
   ],
   "source": [
    "signal = mod_I + 1j*mod_Q\n",
    "\n",
    "# Calculate nosie power\n",
    "SNR = 20 # SNR dB\n",
    "snr = 10**(SNR/10) # SNR ratio\n",
    "var_signal = np.var(signal) # power\n",
    "var_noise = var_signal / snr\n",
    "print('Desired SNR: %d dB' % SNR)\n",
    "print('Var Signal: ', var_signal)\n",
    "print('Var Noise: ' ,var_noise)\n",
    "print('SNR (ratio): ', var_signal/var_noise)\n",
    "\n",
    "# Generate noise\n",
    "noise_len = len(signal)\n",
    "noise_mean = 0\n",
    "noise = (np.random.normal(noise_mean,np.sqrt(2)/2,noise_len) \n",
    "         + 1j*np.random.normal(noise_mean,np.sqrt(2)/2,noise_len))\n",
    "noise_scaled = noise * np.sqrt(var_noise)\n",
    "\n",
    "# Add noise to signal\n",
    "signal_with_noise = signal + noise_scaled\n",
    "\n",
    "# Measure SNR to verify\n",
    "power_signal = 10*np.log10(np.var(signal))\n",
    "power_noise = 10*np.log10(np.mean(np.abs(signal - signal_with_noise)**2))\n",
    "print('Measured SNR: ', power_signal - power_noise)\n",
    "\n",
    "# Plot signal with noise\n",
    "x = [n.real for n in signal_with_noise]\n",
    "y = [n.imag for n in signal_with_noise]   \n",
    "\n",
    "plt.scatter(x, y,s=1)\n",
    "plt.ylabel('Quadrature Amplitude')\n",
    "plt.xlabel('In-phase Amplitude')\n",
    "plt.title('Constellation Plot')\n",
    "plt.rcParams['figure.figsize'] = [3, 3]\n",
    "plt.rcParams['figure.dpi'] = 300\n",
    "plt.show"
   ]
  },
  {
   "cell_type": "markdown",
   "id": "f1296ea6-47a2-46a1-b705-f891dea7de0c",
   "metadata": {},
   "source": [
    "The soft value log-likelihood ratio is defined as:\n",
    "\n",
    "LLR(x) = ln(P(x=1) / P(x=0))\n",
    "\n",
    "This means that positive values (including 0) are interpreted as a hard binary 1 and negative values are interpreted as a hard binary 0. The magnitude of these values indicates the certainty, with a larger magnitude equating to a higher certainty and vice versa.\n",
    "\n",
    "Perform soft demodulation using http://www.dsplog.com/2009/07/05/softbit-16qam/ as reference"
   ]
  },
  {
   "cell_type": "code",
   "execution_count": 5,
   "id": "f1dffa21-a943-4a3e-a661-03874ed105f8",
   "metadata": {},
   "outputs": [],
   "source": [
    "llrs = []\n",
    "for y in signal_with_noise:\n",
    "    # Bit 0\n",
    "    if y.real < -2:\n",
    "        b0 = 2*(y.real+1)\n",
    "    elif y.real >= -2 and y.real < 2:\n",
    "        b0 = y.real\n",
    "    elif y.real > 2:\n",
    "        b0 = 2*(y.real-1)\n",
    "        \n",
    "    # Bit 1\n",
    "    b1 = -abs(y.real)+2\n",
    "    \n",
    "    # Bit 2\n",
    "    if y.imag < -2:\n",
    "        b2 = 2*(y.imag+1)\n",
    "    elif y.imag >= -2 and y.imag < 2:\n",
    "        b2 = y.imag\n",
    "    elif y.imag > 2:\n",
    "        b2 = 2*(y.imag-1) \n",
    "        \n",
    "    # Bit 3\n",
    "    b3 = -abs(y.imag)+2\n",
    "    \n",
    "    llrs.append(b0)\n",
    "    llrs.append(b1)\n",
    "    llrs.append(b2)\n",
    "    llrs.append(b3)"
   ]
  },
  {
   "cell_type": "markdown",
   "id": "2e0bb433-ff67-48d5-b0ce-593515a3161c",
   "metadata": {},
   "source": [
    "Store the LLR values"
   ]
  },
  {
   "cell_type": "code",
   "execution_count": 6,
   "id": "f3e78686-0801-4aed-9e16-0040b74c7cba",
   "metadata": {},
   "outputs": [
    {
     "name": "stdout",
     "output_type": "stream",
     "text": [
      "Stored 'llrs' (list)\n"
     ]
    }
   ],
   "source": [
    "%store llrs"
   ]
  }
 ],
 "metadata": {
  "kernelspec": {
   "display_name": "Python 3",
   "language": "python",
   "name": "python3"
  },
  "language_info": {
   "codemirror_mode": {
    "name": "ipython",
    "version": 3
   },
   "file_extension": ".py",
   "mimetype": "text/x-python",
   "name": "python",
   "nbconvert_exporter": "python",
   "pygments_lexer": "ipython3",
   "version": "3.8.2"
  }
 },
 "nbformat": 4,
 "nbformat_minor": 5
}
