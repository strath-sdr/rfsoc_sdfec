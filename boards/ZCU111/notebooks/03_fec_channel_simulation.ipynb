{
 "cells": [
  {
   "cell_type": "markdown",
   "id": "a69ea515-9146-4d42-bad6-005f159ccf8e",
   "metadata": {},
   "source": [
    "# Forward Error Correction Channel Simulation"
   ]
  },
  {
   "cell_type": "code",
   "execution_count": 39,
   "id": "e01e595b-a2ec-4604-9559-dcf147a8702a",
   "metadata": {},
   "outputs": [],
   "source": [
    "import matplotlib.pyplot as plt\n",
    "import numpy as np\n",
    "\n",
    "%store -r rx_buffer pad"
   ]
  },
  {
   "cell_type": "code",
   "execution_count": 60,
   "id": "f2c05091-2aea-475a-bba1-1e4caa28fd7f",
   "metadata": {},
   "outputs": [
    {
     "name": "stdout",
     "output_type": "stream",
     "text": [
      "1001001000110110111100011010100110010101011100101100110000000100010110111111101001000101001111011100100001101110101111010101110101010000110001100011011111100010100111010001111101111100000001111000101011100111011100110100110101010010111011011000000011110011110011101001101000001111000100000110111111100011111011111110100101010000011101101000111001010011000110101001011011110110000010101110101101101011101001011101000010010010010011110111110011000001100111101001001110101111010101010011011111001011110110000010001101111001011011110110010101001011011011001000111000101010010011110000111001100110101000001100101110011100011000110110010000001001010010111101000110010000101001100011110011000000110000101110011011001000001011111100110101010100000011100001111011000111111101111101100111111001010000000111011010100010111111001001011001110110101001000011100100100011001101100101110011101001111110101111001010011001100101001101111111000100101111111010100010001111111000001101111101011010110110001101110111011101100100011100101100000110101101001100000100110100100001001001110110100011100101001000010000010010100000010010100110110100\n"
     ]
    }
   ],
   "source": [
    "hard_data = rx_buffer[::pad]\n",
    "\n",
    "hard_binary = ''\n",
    "for hd in hard_data:\n",
    "    h_bin = '{0:08b}'.format(hd)\n",
    "    hard_binary += h_bin[::-1] # Decoder accepts LSB first\n",
    "    \n",
    "print(hard_binary)"
   ]
  },
  {
   "cell_type": "code",
   "execution_count": 80,
   "id": "f4c28fac-8353-48c5-ad1f-52f34dd7b7e5",
   "metadata": {
    "tags": []
   },
   "outputs": [
    {
     "data": {
      "text/plain": [
       "<function matplotlib.pyplot.show(*args, **kw)>"
      ]
     },
     "execution_count": 80,
     "metadata": {},
     "output_type": "execute_result"
    },
    {
     "data": {
      "image/png": "[encoded data removed]",
      "text/plain": [
       "<Figure size 432x288 with 1 Axes>"
      ]
     },
     "metadata": {
      "needs_background": "light"
     },
     "output_type": "display_data"
    }
   ],
   "source": [
    "L = 4 # Symbol length\n",
    "    \n",
    "mod_I = np.empty(0)\n",
    "mod_Q = np.empty(0)\n",
    "for i in range(0, len(hard_binary), L):\n",
    "    symbol = hard_binary[i : i+L]\n",
    "    \n",
    "    b0b1 = symbol[0:2]\n",
    "    b2b3 = symbol[2:4]\n",
    "\n",
    "    if b0b1 == '00':\n",
    "        I = -3\n",
    "    elif b0b1 == '01':\n",
    "        I = -1\n",
    "    elif b0b1 == '11':\n",
    "        I = 1\n",
    "    elif b0b1 == '10':\n",
    "        I = 3\n",
    "\n",
    "    if b2b3 == '00':\n",
    "        Q = -3\n",
    "    elif b2b3 == '01':\n",
    "        Q = -1\n",
    "    elif b2b3 == '11':\n",
    "        Q = 1\n",
    "    elif b2b3 == '10':\n",
    "        Q = 3\n",
    "        \n",
    "    mod_I = np.append(mod_I, I)\n",
    "    mod_Q = np.append(mod_Q, Q)\n",
    "\n",
    "plt.scatter(mod_I, mod_Q)\n",
    "plt.show"
   ]
  },
  {
   "cell_type": "code",
   "execution_count": 88,
   "id": "4616311d-5710-4177-9169-5d1191fc7006",
   "metadata": {},
   "outputs": [
    {
     "data": {
      "text/plain": [
       "3.122989148954859"
      ]
     },
     "execution_count": 88,
     "metadata": {},
     "output_type": "execute_result"
    }
   ],
   "source": [
    "std"
   ]
  },
  {
   "cell_type": "code",
   "execution_count": 91,
   "id": "d70b2381-eb28-4c4c-b03d-5443514d5191",
   "metadata": {
    "tags": []
   },
   "outputs": [
    {
     "data": {
      "text/plain": [
       "(8.923151872779462+3.3266582055914773j)"
      ]
     },
     "execution_count": 91,
     "metadata": {},
     "output_type": "execute_result"
    }
   ],
   "source": [
    "max(noise)"
   ]
  },
  {
   "cell_type": "code",
   "execution_count": 148,
   "id": "8bee67d9-2689-4541-a457-a00cbf9e03a5",
   "metadata": {},
   "outputs": [
    {
     "data": {
      "text/plain": [
       "<function matplotlib.pyplot.show(*args, **kw)>"
      ]
     },
     "execution_count": 148,
     "metadata": {},
     "output_type": "execute_result"
    },
    {
     "data": {
      "image/png": "[encoded data removed]",
      "text/plain": [
       "<Figure size 432x288 with 1 Axes>"
      ]
     },
     "metadata": {
      "needs_background": "light"
     },
     "output_type": "display_data"
    }
   ],
   "source": [
    "modulated = mod_I + 1j*mod_Q\n",
    "\n",
    "SNR = -6.25\n",
    "\n",
    "mod_I_mean = 10*np.log10(abs(np.mean(modulated.real)))\n",
    "mod_Q_mean = 10*np.log10(abs(np.mean(modulated.imag)))\n",
    "\n",
    "noise_I_avg = 10 ** ((mod_I_mean - SNR) / 10)\n",
    "noise_Q_avg = 10 ** ((mod_Q_mean - SNR) / 10)\n",
    "\n",
    "noise_I = np.random.normal(0, np.sqrt(noise_I_avg), len(modulated.real))\n",
    "noise_Q = np.random.normal(0, np.sqrt(noise_Q_avg), len(modulated.imag))\n",
    "\n",
    "mod_I_noisey = mod_I + noise_I\n",
    "mod_Q_noisey = mod_Q + noise_Q\n",
    "\n",
    "modulated_noisey = mod_I_noisey + 1j * mod_Q_noisey\n",
    "\n",
    "x = [n.real for n in modulated_noisey]\n",
    "y = [n.imag for n in modulated_noisey]   \n",
    "\n",
    "plt.scatter(x, y)\n",
    "plt.ylabel('Quadrature Amplitude')\n",
    "plt.xlabel('In-phase Amplitude')\n",
    "plt.title('Constellation Plot')\n",
    "# plt.rcParams['figure.figsize'] = [4, 4]\n",
    "# plt.rcParams['figure.dpi'] = 200\n",
    "plt.show"
   ]
  },
  {
   "cell_type": "markdown",
   "id": "a205ca76-170b-4530-9126-78c5fef14508",
   "metadata": {},
   "source": [
    "the LLR is (2 * r)/sigma^2 where r is the received symbol and sigma^2 is the noise power"
   ]
  },
  {
   "cell_type": "code",
   "execution_count": 149,
   "id": "f1dffa21-a943-4a3e-a661-03874ed105f8",
   "metadata": {},
   "outputs": [],
   "source": [
    "llrs = []\n",
    "for y in modulated_noisey:\n",
    "    # Bit 0\n",
    "    if y.real < -2:\n",
    "        b0 = 2*(y.real+1)\n",
    "    elif y.real >= -2 and y.real < 2:\n",
    "        b0 = y.real\n",
    "    elif y.real > 2:\n",
    "        b0 = 2*(y.real-1)\n",
    "        \n",
    "    # Bit 1\n",
    "    b1 = -abs(y.real)+2\n",
    "    \n",
    "    # Bit 2\n",
    "    if y.imag < -2:\n",
    "        b2 = 2*(y.imag+1)\n",
    "    elif y.imag >= -2 and y.imag < 2:\n",
    "        b2 = y.imag\n",
    "    elif y.imag > 2:\n",
    "        b2 = 2*(y.imag-1) \n",
    "        \n",
    "    # Bit 3\n",
    "    b3 = -abs(y.imag)+2\n",
    "    \n",
    "    llrs.append(b0)\n",
    "    llrs.append(b1)\n",
    "    llrs.append(b2)\n",
    "    llrs.append(b3)"
   ]
  },
  {
   "cell_type": "code",
   "execution_count": 150,
   "id": "f3e78686-0801-4aed-9e16-0040b74c7cba",
   "metadata": {},
   "outputs": [
    {
     "name": "stdout",
     "output_type": "stream",
     "text": [
      "Stored 'llrs' (list)\n"
     ]
    }
   ],
   "source": [
    "%store llrs"
   ]
  },
  {
   "cell_type": "code",
   "execution_count": null,
   "id": "739ccb87-b7e8-45dd-a394-e81d9b17c66b",
   "metadata": {},
   "outputs": [],
   "source": []
  }
 ],
 "metadata": {
  "kernelspec": {
   "display_name": "Python 3",
   "language": "python",
   "name": "python3"
  },
  "language_info": {
   "codemirror_mode": {
    "name": "ipython",
    "version": 3
   },
   "file_extension": ".py",
   "mimetype": "text/x-python",
   "name": "python",
   "nbconvert_exporter": "python",
   "pygments_lexer": "ipython3",
   "version": "3.8.2"
  }
 },
 "nbformat": 4,
 "nbformat_minor": 5
}
