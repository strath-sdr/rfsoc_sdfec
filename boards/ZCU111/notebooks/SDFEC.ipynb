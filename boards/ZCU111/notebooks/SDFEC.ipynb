{
 "cells": [
  {
   "cell_type": "markdown",
   "id": "a70df6fe-35f5-45d5-8019-e9508e4d5694",
   "metadata": {},
   "source": [
    "# SD-FEC LDPC Encoder/Decoder Loopback\n",
    "This notebook provides a basic introduction to the SD-FEC IP core and how it is used for LDPC encoding and decoding. The hardware design comprises two parts in isolation - encoding and decoding. Two SD-FEC cores are set up, one to perform each operation, in a loopback system. This means that all data input to the cores is generated from software in this notebook. The reason for this is to illustrate the various data formats required at each stage of the design pipeline. Additionally, all control over the SD-FEC cores is executed from this notebook, again to provide the user with an understanding of the procedures involved when using the SD-FEC IP core. Therefore, this notebook and accompanying hardware design is not intended to demonstrate a high-throughput application, but instead provide a starting point for developing with SD-FEC.\n",
    "\n",
    "## TOC:\n",
    "* [Encoder](#encoder)\n",
    "* [Modulation, Channel and Soft Demodulation](#Mod_CH_SDemod)\n",
    "* [Decoder](#decoder)\n",
    "\n",
    "Begin by downloading the hardware desing to the platform."
   ]
  },
  {
   "cell_type": "code",
   "execution_count": 1,
   "id": "38d37166-3d31-4a52-b3d6-257acbb9b91b",
   "metadata": {},
   "outputs": [
    {
     "data": {
      "application/javascript": [
       "\n",
       "try {\n",
       "require(['notebook/js/codecell'], function(codecell) {\n",
       "  codecell.CodeCell.options_default.highlight_modes[\n",
       "      'magic_text/x-csrc'] = {'reg':[/^%%microblaze/]};\n",
       "  Jupyter.notebook.events.one('kernel_ready.Kernel', function(){\n",
       "      Jupyter.notebook.get_cells().map(function(cell){\n",
       "          if (cell.cell_type == 'code'){ cell.auto_highlight(); } }) ;\n",
       "  });\n",
       "});\n",
       "} catch (e) {};\n"
      ]
     },
     "metadata": {},
     "output_type": "display_data"
    },
    {
     "data": {
      "application/javascript": [
       "\n",
       "try {\n",
       "require(['notebook/js/codecell'], function(codecell) {\n",
       "  codecell.CodeCell.options_default.highlight_modes[\n",
       "      'magic_text/x-csrc'] = {'reg':[/^%%pybind11/]};\n",
       "  Jupyter.notebook.events.one('kernel_ready.Kernel', function(){\n",
       "      Jupyter.notebook.get_cells().map(function(cell){\n",
       "          if (cell.cell_type == 'code'){ cell.auto_highlight(); } }) ;\n",
       "  });\n",
       "});\n",
       "} catch (e) {};\n"
      ]
     },
     "metadata": {},
     "output_type": "display_data"
    }
   ],
   "source": [
    "import numpy as np\n",
    "from pynq import allocate\n",
    "from pynq import Overlay\n",
    "import random\n",
    "import xsdfec\n",
    "from uosfec import *\n",
    "\n",
    "ol = Overlay('ldpc_loopback.bit')"
   ]
  },
  {
   "cell_type": "markdown",
   "id": "31494017-85c0-408d-b803-cf53b6601d32",
   "metadata": {},
   "source": [
    "## Encoder <a class=\"anchor\" id=\"encoder\"></a>\n",
    "This first section covers the encoder component of the system. Data will be generated, output to the encoder where it will be encoded, and the resulting block will then be returned for analysis."
   ]
  },
  {
   "cell_type": "markdown",
   "id": "2d304c7c-4c52-4aba-8c0e-830858a014be",
   "metadata": {},
   "source": [
    "We can inspect the available LDPC codes that were loaded into the SD-FEC encoder IP core from Vivado."
   ]
  },
  {
   "cell_type": "code",
   "execution_count": 2,
   "id": "61d593f7-3a52-4ee7-972f-006be9ecaade",
   "metadata": {},
   "outputs": [
    {
     "data": {
      "text/plain": [
       "['docsis_short',\n",
       " 'docsis_medium',\n",
       " 'docsis_long',\n",
       " 'docsis_init_ranging',\n",
       " 'docsis_fine_ranging',\n",
       " 'wifi802_11_cr1_2_648',\n",
       " 'wifi802_11_cr1_2_1296',\n",
       " 'wifi802_11_cr1_2_1944',\n",
       " 'wifi802_11_cr2_3_648',\n",
       " 'wifi802_11_cr2_3_1296',\n",
       " 'wifi802_11_cr2_3_1944',\n",
       " 'wifi802_11_cr3_4_648',\n",
       " 'wifi802_11_cr3_4_1296',\n",
       " 'wifi802_11_cr3_4_1944',\n",
       " 'wifi802_11_cr5_6_648',\n",
       " 'wifi802_11_cr5_6_1296',\n",
       " 'wifi802_11_cr5_6_1944',\n",
       " '5g_graph1_set1_l5_p32',\n",
       " '5g_graph1_set1_l5_p64',\n",
       " '5g_graph1_set1_l5_p128',\n",
       " '5g_graph1_set1_l5_p256',\n",
       " '5g_graph1_set2_l5_p384',\n",
       " '5g_graph1_set1_l46_p32',\n",
       " '5g_graph1_set1_l46_p64',\n",
       " '5g_graph1_set1_l46_p128',\n",
       " '5g_graph1_set1_l46_p256',\n",
       " '5g_graph1_set2_l46_p384',\n",
       " '5g_graph2_set1_l7_p32',\n",
       " '5g_graph2_set1_l7_p64',\n",
       " '5g_graph2_set1_l7_p128',\n",
       " '5g_graph2_set1_l7_p256',\n",
       " '5g_graph2_set2_l7_p384',\n",
       " '5g_graph2_set1_l42_p32',\n",
       " '5g_graph2_set1_l42_p64',\n",
       " '5g_graph2_set1_l42_p128',\n",
       " '5g_graph2_set1_l42_p256',\n",
       " '5g_graph2_set2_l42_p384']"
      ]
     },
     "execution_count": 2,
     "metadata": {},
     "output_type": "execute_result"
    }
   ],
   "source": [
    "fec = ol.ldpc_encoder.sd_fec\n",
    "fec.available_ldpc_params()"
   ]
  },
  {
   "cell_type": "markdown",
   "id": "d6ce65cb-7d3f-4170-a006-de7f5f1bc5bd",
   "metadata": {},
   "source": [
    "Using DOCSIS Short as the example going forward, we can obtain useful information about the standard such as block length (n), information bits (k) and the sub-matrix size (p)."
   ]
  },
  {
   "cell_type": "code",
   "execution_count": 3,
   "id": "4b42c02f-0c16-4997-bfcd-33eabbdb3bb4",
   "metadata": {},
   "outputs": [
    {
     "name": "stdout",
     "output_type": "stream",
     "text": [
      "Block Length: 1120\n",
      "Information Bits: 840\n",
      "Sub-Matrix Size: 56\n"
     ]
    }
   ],
   "source": [
    "code_name = 'docsis_short'\n",
    "\n",
    "n = fec._code_params.ldpc[code_name]['n']\n",
    "k = fec._code_params.ldpc[code_name]['k']\n",
    "p = fec._code_params.ldpc[code_name]['p']\n",
    "\n",
    "print('Block Length: %s\\nInformation Bits: %s\\nSub-Matrix Size: %s' % (n, k, p))"
   ]
  },
  {
   "cell_type": "markdown",
   "id": "020000cb-dec0-47eb-a5f5-f6dcda10f4f6",
   "metadata": {},
   "source": [
    "### TX Data Generation\n",
    "\n",
    "It can be seen that there are 840 information bits for every block. The data in port (DIN) of the SD-FEC block accepts data of the form uint8. Data can be concatenated together to form larger data buses to improve throughput i.e. 16 uint8 words can be grouped to create a 192 length word. For the purposes of this demonstration however, the number of words per transaction has been fixed to 1 uint8 word.\n",
    "\n",
    "We will create two data buffers for sending data to and receiving data from the SD-FEC core. The TX buffer only contains the information bits and has a length of k/8 bytes. The RX buffer is of length n/8 bytes, the full block size. In addition to the information bits, the encoded RX buffer contains the **(Need to read up on what these actually are)** at the tail. \n",
    "\n",
    "Random data is generated and placed into the TX buffer."
   ]
  },
  {
   "cell_type": "code",
   "execution_count": 4,
   "id": "e8316baf-bc7f-480c-a6a6-2768b25a124e",
   "metadata": {},
   "outputs": [],
   "source": [
    "tx_buffer = allocate(shape=(k//8,), dtype=np.uint32)\n",
    "rx_buffer = allocate(shape=(n//8,), dtype=np.uint32)\n",
    "\n",
    "for i in range(k//8):\n",
    "    tx_buffer[i] = random.randint(1,255)"
   ]
  },
  {
   "cell_type": "markdown",
   "id": "de6dc9ec-bcfd-413c-b407-464783c8fe12",
   "metadata": {},
   "source": [
    "### Encoder Control Register\n",
    "\n",
    "In addition to the data buffers, the SD-FEC core requires that a control register is written to for every block input to the core. If this register is not written to, the core will not output any data and drive tready low such that it blocks further data from being streamed into it. For non-5G LDPC codes, the wordlength of the control register is 32 bits and comprises:   \n",
    "\n",
    "| Field                          | Type        |\n",
    "| -----------                    | ----------- |\n",
    "| External Block ID (31:24)      |  uint8      |\n",
    "| Max No. Iterations (23:18)     |  uint6      |\n",
    "| Terminate on no Change (17:17) |  bit1       |\n",
    "| Terminate on Pass (16:16)      |  bit1       |\n",
    "| Include Parity Output (15:15)  |  bit1       |\n",
    "| Hard Output (14:14)            |  bit1       |\n",
    "| Reserved (13:7)                |  uint7      |\n",
    "| Code Number (6:0)              |  uint7      |\n",
    "\n",
    "Of these fields, only two are used when the SD-FEC block is configured as an encoder. These are *External Block ID* and *Code Number*. \n",
    "\n",
    "The control register is written to over AXI4-Stream as opposed to an AXI4 memory map. This ensures that the control register is aligned with the block for high throughput applications. Therefore, a data buffer is used to transfer the required bits. A Python function has been created to take the fields and perform the neccessary bit packing to form the expected 32-bit word."
   ]
  },
  {
   "cell_type": "code",
   "execution_count": 5,
   "id": "b8037889-1044-48ac-9538-c5dab9e59132",
   "metadata": {},
   "outputs": [
    {
     "name": "stdout",
     "output_type": "stream",
     "text": [
      "Non-5G NR Control Interface Definitions for LDPC Encode\n",
      "\tID:  0\n",
      "\tCODE:  0\n"
     ]
    }
   ],
   "source": [
    "ctrl_buffer = allocate(shape=(1,), dtype=np.uint32)\n",
    "status_buffer = allocate(shape=(1,), dtype=np.uint32)\n",
    "\n",
    "codes = fec.available_ldpc_params()\n",
    "code_number = codes.index(code_name)\n",
    "\n",
    "id = code_number\n",
    "code = code_number\n",
    "ctrl_buffer[0] = non_5G_ldpc_ctrl_enc(id, code)"
   ]
  },
  {
   "cell_type": "markdown",
   "id": "f3ba6a3f-11a8-4f96-a952-bfb7b54551f6",
   "metadata": {},
   "source": [
    "### Encoding Data\n",
    "Two DMAs exist in the encoder section of the hardware design. One for sending and receiving the data and another for sending the control register and receiving information regarding the status."
   ]
  },
  {
   "cell_type": "code",
   "execution_count": 6,
   "id": "ebfcb4db-f1e8-4c0d-a925-75717ef12a87",
   "metadata": {},
   "outputs": [],
   "source": [
    "dma_data = ol.ldpc_encoder.axi_dma_data\n",
    "dma_ctrl = ol.ldpc_encoder.axi_dma_ctrl"
   ]
  },
  {
   "cell_type": "markdown",
   "id": "e141954a-303f-42f9-b873-deeab860df04",
   "metadata": {},
   "source": [
    "Need to work out what *add_ldpc_params* and *63* do/mean????"
   ]
  },
  {
   "cell_type": "code",
   "execution_count": 8,
   "id": "affaaf50-961f-48cf-8bda-5df04a7cba28",
   "metadata": {},
   "outputs": [],
   "source": [
    "fec.add_ldpc_params(0, 0, 0, 0, code_name)\n",
    "fec.CORE_AXIS_ENABLE = 63\n",
    "\n",
    "dma_ctrl.sendchannel.transfer(ctrl_buffer)\n",
    "dma_data.sendchannel.transfer(tx_buffer)\n",
    "dma_ctrl.recvchannel.transfer(status_buffer)\n",
    "dma_data.recvchannel.transfer(rx_buffer)\n",
    "dma_ctrl.sendchannel.wait()\n",
    "dma_data.sendchannel.wait()\n",
    "dma_data.recvchannel.wait()\n",
    "dma_ctrl.recvchannel.wait()"
   ]
  },
  {
   "cell_type": "markdown",
   "id": "c8abb64b-ea74-4415-af57-376c1d82e076",
   "metadata": {},
   "source": [
    "For each block transaction, the core will return a status providing information regarding the code ID that was used for encoding the block as well as the type of output. For the encoder, the data output is always hard."
   ]
  },
  {
   "cell_type": "code",
   "execution_count": 11,
   "id": "c5ceecbd-c91e-4f04-9634-4688e9484c93",
   "metadata": {},
   "outputs": [
    {
     "name": "stdout",
     "output_type": "stream",
     "text": [
      "ID:  0\n",
      "Hard OP:  1\n",
      "OP:  1\n",
      "Code:  0\n"
     ]
    }
   ],
   "source": [
    "non_5G_ldpc_status_enc(status_buffer[0])"
   ]
  },
  {
   "cell_type": "markdown",
   "id": "3d915632-ae44-49a3-86e5-f413bb59638d",
   "metadata": {},
   "source": [
    "The received data is inspected and compared with the transmitted data. The cell output below shows that the information buffer has been encoded and additional bits have been added to the end of the array (elements 106 to 140)."
   ]
  },
  {
   "cell_type": "code",
   "execution_count": 24,
   "id": "4386b1db-c68e-4692-b9a8-82a2205f2c79",
   "metadata": {
    "tags": []
   },
   "outputs": [
    {
     "name": "stdout",
     "output_type": "stream",
     "text": [
      "        TX   RX\n",
      "0     95.0   95\n",
      "1     25.0   25\n",
      "2      5.0    5\n",
      "3     25.0   25\n",
      "4     11.0   11\n",
      "5     24.0   24\n",
      "6      3.0    3\n",
      "7    131.0  131\n",
      "8    147.0  147\n",
      "9    206.0  206\n",
      "10     6.0    6\n",
      "11   143.0  143\n",
      "12   201.0  201\n",
      "13   129.0  129\n",
      "14    65.0   65\n",
      "15   207.0  207\n",
      "16   214.0  214\n",
      "17   152.0  152\n",
      "18    67.0   67\n",
      "19    68.0   68\n",
      "20   121.0  121\n",
      "21    96.0   96\n",
      "22   214.0  214\n",
      "23   148.0  148\n",
      "24    14.0   14\n",
      "25    89.0   89\n",
      "26   218.0  218\n",
      "27    92.0   92\n",
      "28    52.0   52\n",
      "29    64.0   64\n",
      "30   121.0  121\n",
      "31   133.0  133\n",
      "32    41.0   41\n",
      "33     6.0    6\n",
      "34   182.0  182\n",
      "35   110.0  110\n",
      "36   202.0  202\n",
      "37   125.0  125\n",
      "38   116.0  116\n",
      "39   246.0  246\n",
      "40   130.0  130\n",
      "41    86.0   86\n",
      "42   142.0  142\n",
      "43   199.0  199\n",
      "44   211.0  211\n",
      "45    98.0   98\n",
      "46   151.0  151\n",
      "47   100.0  100\n",
      "48    32.0   32\n",
      "49    88.0   88\n",
      "50   121.0  121\n",
      "51   115.0  115\n",
      "52    75.0   75\n",
      "53    76.0   76\n",
      "54    28.0   28\n",
      "55    34.0   34\n",
      "56   166.0  166\n",
      "57   250.0  250\n",
      "58   179.0  179\n",
      "59    30.0   30\n",
      "60   216.0  216\n",
      "61   122.0  122\n",
      "62   113.0  113\n",
      "63   229.0  229\n",
      "64   127.0  127\n",
      "65    76.0   76\n",
      "66    44.0   44\n",
      "67    48.0   48\n",
      "68   206.0  206\n",
      "69   118.0  118\n",
      "70    99.0   99\n",
      "71   255.0  255\n",
      "72   155.0  155\n",
      "73   223.0  223\n",
      "74     7.0    7\n",
      "75   184.0  184\n",
      "76    44.0   44\n",
      "77    34.0   34\n",
      "78   222.0  222\n",
      "79   209.0  209\n",
      "80    31.0   31\n",
      "81    48.0   48\n",
      "82    42.0   42\n",
      "83   208.0  208\n",
      "84    86.0   86\n",
      "85   210.0  210\n",
      "86   212.0  212\n",
      "87    79.0   79\n",
      "88   245.0  245\n",
      "89    76.0   76\n",
      "90   189.0  189\n",
      "91     8.0    8\n",
      "92   124.0  124\n",
      "93    41.0   41\n",
      "94   153.0  153\n",
      "95   209.0  209\n",
      "96    64.0   64\n",
      "97   247.0  247\n",
      "98   148.0  148\n",
      "99   245.0  245\n",
      "100  178.0  178\n",
      "101  150.0  150\n",
      "102   94.0   94\n",
      "103    3.0    3\n",
      "104  165.0  165\n",
      "105    NaN  151\n",
      "106    NaN  135\n",
      "107    NaN   99\n",
      "108    NaN  123\n",
      "109    NaN   10\n",
      "110    NaN  137\n",
      "111    NaN  164\n",
      "112    NaN   36\n",
      "113    NaN    9\n",
      "114    NaN  228\n",
      "115    NaN  149\n",
      "116    NaN   83\n",
      "117    NaN   92\n",
      "118    NaN  157\n",
      "119    NaN   40\n",
      "120    NaN   49\n",
      "121    NaN  115\n",
      "122    NaN  129\n",
      "123    NaN   50\n",
      "124    NaN  218\n",
      "125    NaN   39\n",
      "126    NaN   26\n",
      "127    NaN  183\n",
      "128    NaN  248\n",
      "129    NaN   46\n",
      "130    NaN  103\n",
      "131    NaN   87\n",
      "132    NaN   90\n",
      "133    NaN  230\n",
      "134    NaN   53\n",
      "135    NaN  237\n",
      "136    NaN  177\n",
      "137    NaN  216\n",
      "138    NaN   29\n",
      "139    NaN    7\n"
     ]
    }
   ],
   "source": [
    "import pandas as pd\n",
    "pd.set_option('display.max_rows', 500)\n",
    "\n",
    "tx_frame = pd.DataFrame({'TX': tx_buffer})\n",
    "rx_frame = pd.DataFrame({'RX': rx_buffer})\n",
    "\n",
    "compare = pandas.concat([tx_frame, rx_frame], axis=1)\n",
    "print(compare)"
   ]
  },
  {
   "cell_type": "markdown",
   "id": "c6c873e0-8cc8-45a0-8083-22324c7f8fa2",
   "metadata": {},
   "source": [
    "## Modulation, Channel and Soft Demodulation <a class=\"anchor\" id=\"Mod_CH_SDemod\"></a>\n",
    "This section will show how the encoded data is formatted for the decoder data input (DIN). The decoder only accepts soft data in the form of *Log-Likelihood Ratio (LLR)* values, meaning the encoded data has to first be modulated so that soft-decision demodulation can be performed to provide the neccessary input to the decoder. \n",
    "\n",
    "This has yet to be implemented in Python. For the time being export the encoded data to a \\*.csv and perform the operations in MATLAB.\n",
    "\n",
    "### Export Hard Data to \\*.csv"
   ]
  },
  {
   "cell_type": "code",
   "execution_count": 33,
   "id": "361b3acc-0f30-48f3-921a-da7f8f380468",
   "metadata": {},
   "outputs": [],
   "source": [
    "np.savetxt('data.csv', rx_buffer, delimiter=',')"
   ]
  },
  {
   "cell_type": "markdown",
   "id": "b9006c45-38bd-4cdf-8080-a21f4915a193",
   "metadata": {},
   "source": [
    "### Convert Hard Data to Soft Data\n",
    "The MATLAB code for converting hard data to soft data is provided below:\n",
    "\n",
    "```Matlab\n",
    "block_size = 1120;\n",
    "data  = readmatrix('data.csv');\n",
    "\n",
    "binVal = decimalToBinaryVector(data,8);\n",
    "binValCol = reshape(binVal',block_size,1);\n",
    "binValColByteFlip = reshape(fliplr(binVal)', 1, block_size)';\n",
    "\n",
    "qpskMod = comm.QPSKModulator('BitInput',true);\n",
    "modData = qpskMod(binValColByteFlip);\n",
    "\n",
    "demodLLR = comm.QPSKDemodulator('BitOutput',true,...\n",
    "    'DecisionMethod','Log-likelihood ratio');\n",
    "\n",
    "softDataLLRCol = demodLLR(modData);\n",
    "\n",
    "writematrix(softDataLLRCol*-1,'data_soft.csv')\n",
    "```"
   ]
  },
  {
   "cell_type": "markdown",
   "id": "1a1cc80b-850f-4902-be39-0467c2aee198",
   "metadata": {},
   "source": [
    "### Import Soft Data"
   ]
  },
  {
   "cell_type": "code",
   "execution_count": 34,
   "id": "6ebd36af-d9d8-47b3-9ab7-f6012a51b7f6",
   "metadata": {},
   "outputs": [],
   "source": [
    "with open('data_soft.csv') as f:\n",
    "    soft_data = np.loadtxt(f, delimiter=\",\")"
   ]
  },
  {
   "cell_type": "markdown",
   "id": "02a62760-462d-4c42-9f41-24dbc46e5cf3",
   "metadata": {},
   "source": [
    "## Decoder <a class=\"anchor\" id=\"decoder\"></a>\n",
    "The soft decision is performed on each bit, giving the likelihood of the bit being a 0 or a 1. Therefore the length of the TX buffer is the full block length (n) of the LDPC coding standard in bits. The decoder can either output soft or hard data. Here, we will be retreiving the information as decoded hard data, output as bytes, giving a length of k/8. "
   ]
  },
  {
   "cell_type": "code",
   "execution_count": 124,
   "id": "e9f713dd-27fa-4629-8f99-fd0585e98816",
   "metadata": {},
   "outputs": [],
   "source": [
    "tx_buffer = allocate(shape=(n,), dtype=np.uint32)\n",
    "rx_buffer = allocate(shape=(k//8,), dtype=np.uint32)"
   ]
  },
  {
   "cell_type": "markdown",
   "id": "7ef294c1-d928-41e1-be71-9755ef021e34",
   "metadata": {},
   "source": [
    "### Formatting the Soft Data\n",
    "The soft value log-likelihood ratio is defined as:\n",
    "\n",
    "LLR(x) = ln(P(x=1) / P(x=0))\n",
    "\n",
    "This means that positive values (including 0) are interpreted as a hard binary 1 and negative values are interpreted as a hard binary 0. The magnitude of these values indicates the certainty, with a larger magnitude equating to a higher certainty and vice versa.\n",
    "\n",
    "The SD-FEC decoder accepts data in the form *fix6_2*. This data is symmetrically saturated meaning the range is from -7.75 to 7.75. Any values outside of this range are saturated to these maximum and minimum values. If too much saturation is occurring, the performance of the decoder may be affected. To avoid this, the data can be scaled by a number less than 1.\n",
    "\n",
    "Additionally, this data must be sign extended to the nearest byte. Taking the limits as an example, the format\n",
    "\n",
    "| Decimal Value | Binary Value | Unsigned Value |\n",
    "| -----------   | -----------  | -----------    |\n",
    "| 7.75          |  00011111    | 31             |\n",
    "| -7.75         |  11100001    | 225            |\n",
    "\n",
    "A Python function *format_llr* for formatting the data correctly is used to convert the soft data read from the \\*.csv."
   ]
  },
  {
   "cell_type": "code",
   "execution_count": 125,
   "id": "bb4fc1a6-5af6-4e0c-b95a-6680148ee3ff",
   "metadata": {},
   "outputs": [],
   "source": [
    "for i in range(n):\n",
    "    tx_buffer[i] = format_llr(soft_data[i])"
   ]
  },
  {
   "cell_type": "code",
   "execution_count": 126,
   "id": "22c62110-f854-4de6-9a92-c26dc3b987e9",
   "metadata": {},
   "outputs": [
    {
     "name": "stdout",
     "output_type": "stream",
     "text": [
      "Non-5G NR Control Interface Definitions for LDPC Decode\n",
      "\tID:  0\n",
      "\tMax Iter:  10\n",
      "\tTerm No Change:  0\n",
      "\tTerm Pass:  0\n",
      "\tParity Pass:  0\n",
      "\tHard OP:  1\n",
      "\tCode:  0\n",
      "\tBinary:  00000000001010000100000000000000\n"
     ]
    }
   ],
   "source": [
    "fec = ol.ldpc_decoder.sd_fec\n",
    "\n",
    "id = 0\n",
    "max_iter = 10\n",
    "no_change = 0\n",
    "term_on_pass = 0\n",
    "parity = 0\n",
    "hard = 1\n",
    "code = 0\n",
    "ctrl_buffer[0] = non_5G_ldpc_ctrl_dec(id, \n",
    "                                      max_iter, \n",
    "                                      no_change, \n",
    "                                      term_on_pass, \n",
    "                                      parity, \n",
    "                                      hard, \n",
    "                                      code)"
   ]
  },
  {
   "cell_type": "code",
   "execution_count": 127,
   "id": "5214b439-71ba-41a7-83b8-f2e1f6cc0dc2",
   "metadata": {},
   "outputs": [],
   "source": [
    "fec = ol.ldpc_decoder.sd_fec\n",
    "\n",
    "dma_data = ol.ldpc_decoder.axi_dma_data\n",
    "dma_ctrl = ol.ldpc_decoder.axi_dma_ctrl"
   ]
  },
  {
   "cell_type": "code",
   "execution_count": 128,
   "id": "60213400-ece8-4125-a11d-fd1ba29d8f4a",
   "metadata": {
    "tags": []
   },
   "outputs": [],
   "source": [
    "fec.add_ldpc_params(0, 0, 0, 0, code_name)\n",
    "fec.CORE_AXIS_ENABLE = 63\n",
    "\n",
    "dma_ctrl.sendchannel.transfer(ctrl_buffer)\n",
    "dma_data.sendchannel.transfer(tx_buffer)\n",
    "dma_ctrl.recvchannel.transfer(status_buffer)\n",
    "dma_data.recvchannel.transfer(rx_buffer)\n",
    "dma_ctrl.sendchannel.wait()\n",
    "dma_data.sendchannel.wait()\n",
    "dma_data.recvchannel.wait()\n",
    "dma_ctrl.recvchannel.wait()"
   ]
  },
  {
   "cell_type": "code",
   "execution_count": 129,
   "id": "8c19fc5d-0f83-44df-9151-f0bdcd40b2aa",
   "metadata": {},
   "outputs": [
    {
     "name": "stdout",
     "output_type": "stream",
     "text": [
      "ID:  0 8\n",
      "Dec Iter:  10 6\n",
      "Term No Change:  0 1\n",
      "Term Pass:  0 1\n",
      "Parity Pass:  1 1\n",
      "Hard OP:  1 1\n",
      "Code:  0 8\n"
     ]
    }
   ],
   "source": [
    "non_5G_ldpc_status_dec(status_buffer[0])"
   ]
  },
  {
   "cell_type": "code",
   "execution_count": 130,
   "id": "ad8f0e8b-5f2f-4c27-9dfa-7d238754160a",
   "metadata": {},
   "outputs": [
    {
     "data": {
      "text/plain": [
       "PynqBuffer([ 95,  25,   5,  25,  11,  24,   3, 131, 147, 206,   6, 143,\n",
       "            201, 129,  65, 207, 214, 152,  67,  68, 121,  96, 214, 148,\n",
       "             14,  89, 218,  92,  52,  64, 121, 133,  41,   6, 182, 110,\n",
       "            202, 125, 116, 246, 130,  86, 142, 199, 211,  98, 151, 100,\n",
       "             32,  88, 121, 115,  75,  76,  28,  34, 166, 250, 179,  30,\n",
       "            216, 122, 113, 229, 127,  76,  44,  48, 206, 118,  99, 255,\n",
       "            155, 223,   7, 184,  44,  34, 222, 209,  31,  48,  42, 208,\n",
       "             86, 210, 212,  79, 245,  76, 189,   8, 124,  41, 153, 209,\n",
       "             64, 247, 148, 245, 178, 150,  94,   3, 165], dtype=uint32)"
      ]
     },
     "execution_count": 130,
     "metadata": {},
     "output_type": "execute_result"
    }
   ],
   "source": [
    "rx_buffer"
   ]
  }
 ],
 "metadata": {
  "kernelspec": {
   "display_name": "Python 3",
   "language": "python",
   "name": "python3"
  },
  "language_info": {
   "codemirror_mode": {
    "name": "ipython",
    "version": 3
   },
   "file_extension": ".py",
   "mimetype": "text/x-python",
   "name": "python",
   "nbconvert_exporter": "python",
   "pygments_lexer": "ipython3",
   "version": "3.8.2"
  }
 },
 "nbformat": 4,
 "nbformat_minor": 5
}
