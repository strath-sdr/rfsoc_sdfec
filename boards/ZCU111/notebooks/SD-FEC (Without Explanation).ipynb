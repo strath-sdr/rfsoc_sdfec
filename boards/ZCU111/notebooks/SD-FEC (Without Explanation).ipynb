{
 "cells": [
  {
   "cell_type": "markdown",
   "id": "8ea33ae5-f81e-4f79-9434-8a4bb49ad49f",
   "metadata": {},
   "source": [
    "# SD-FEC LDPC Encoder/Decoder Loopback"
   ]
  },
  {
   "cell_type": "markdown",
   "id": "2bd10e7f-bc9c-4213-b8d1-b88cbab7e4b7",
   "metadata": {},
   "source": [
    "### Download Overlay"
   ]
  },
  {
   "cell_type": "code",
   "execution_count": 1,
   "id": "add0049d-90bd-45c3-b3c7-1fcd4cfbf2dd",
   "metadata": {},
   "outputs": [
    {
     "data": {
      "application/javascript": [
       "\n",
       "try {\n",
       "require(['notebook/js/codecell'], function(codecell) {\n",
       "  codecell.CodeCell.options_default.highlight_modes[\n",
       "      'magic_text/x-csrc'] = {'reg':[/^%%microblaze/]};\n",
       "  Jupyter.notebook.events.one('kernel_ready.Kernel', function(){\n",
       "      Jupyter.notebook.get_cells().map(function(cell){\n",
       "          if (cell.cell_type == 'code'){ cell.auto_highlight(); } }) ;\n",
       "  });\n",
       "});\n",
       "} catch (e) {};\n"
      ]
     },
     "metadata": {},
     "output_type": "display_data"
    },
    {
     "data": {
      "application/javascript": [
       "\n",
       "try {\n",
       "require(['notebook/js/codecell'], function(codecell) {\n",
       "  codecell.CodeCell.options_default.highlight_modes[\n",
       "      'magic_text/x-csrc'] = {'reg':[/^%%pybind11/]};\n",
       "  Jupyter.notebook.events.one('kernel_ready.Kernel', function(){\n",
       "      Jupyter.notebook.get_cells().map(function(cell){\n",
       "          if (cell.cell_type == 'code'){ cell.auto_highlight(); } }) ;\n",
       "  });\n",
       "});\n",
       "} catch (e) {};\n"
      ]
     },
     "metadata": {},
     "output_type": "display_data"
    }
   ],
   "source": [
    "from pynq import allocate\n",
    "from pynq import Overlay\n",
    "import matplotlib.pyplot as plt\n",
    "import numpy as np\n",
    "import xsdfec\n",
    "\n",
    "ol = Overlay('ldpc_loopback.bit')"
   ]
  },
  {
   "cell_type": "markdown",
   "id": "5b861280-14df-458f-bcf6-299b26e53ee8",
   "metadata": {},
   "source": [
    "## Encoder"
   ]
  },
  {
   "cell_type": "markdown",
   "id": "aa32b216-7f0a-480a-ae46-2fcfd9fa8d45",
   "metadata": {},
   "source": [
    "### Inspect Available LDPC Codes"
   ]
  },
  {
   "cell_type": "code",
   "execution_count": 2,
   "id": "424dbbab-caab-45b9-8c11-b010c34a4087",
   "metadata": {},
   "outputs": [
    {
     "data": {
      "text/plain": [
       "['docsis_short',\n",
       " 'docsis_medium',\n",
       " 'docsis_long',\n",
       " 'docsis_init_ranging',\n",
       " 'docsis_fine_ranging',\n",
       " 'wifi802_11_cr1_2_648',\n",
       " 'wifi802_11_cr1_2_1296',\n",
       " 'wifi802_11_cr1_2_1944',\n",
       " 'wifi802_11_cr2_3_648',\n",
       " 'wifi802_11_cr2_3_1296',\n",
       " 'wifi802_11_cr2_3_1944',\n",
       " 'wifi802_11_cr3_4_648',\n",
       " 'wifi802_11_cr3_4_1296',\n",
       " 'wifi802_11_cr3_4_1944',\n",
       " 'wifi802_11_cr5_6_648',\n",
       " 'wifi802_11_cr5_6_1296',\n",
       " 'wifi802_11_cr5_6_1944',\n",
       " '5g_graph1_set1_l5_p32',\n",
       " '5g_graph1_set1_l5_p64',\n",
       " '5g_graph1_set1_l5_p128',\n",
       " '5g_graph1_set1_l5_p256',\n",
       " '5g_graph1_set2_l5_p384',\n",
       " '5g_graph1_set1_l46_p32',\n",
       " '5g_graph1_set1_l46_p64',\n",
       " '5g_graph1_set1_l46_p128',\n",
       " '5g_graph1_set1_l46_p256',\n",
       " '5g_graph1_set2_l46_p384',\n",
       " '5g_graph2_set1_l7_p32',\n",
       " '5g_graph2_set1_l7_p64',\n",
       " '5g_graph2_set1_l7_p128',\n",
       " '5g_graph2_set1_l7_p256',\n",
       " '5g_graph2_set2_l7_p384',\n",
       " '5g_graph2_set1_l42_p32',\n",
       " '5g_graph2_set1_l42_p64',\n",
       " '5g_graph2_set1_l42_p128',\n",
       " '5g_graph2_set1_l42_p256',\n",
       " '5g_graph2_set2_l42_p384']"
      ]
     },
     "execution_count": 2,
     "metadata": {},
     "output_type": "execute_result"
    }
   ],
   "source": [
    "fec = ol.ldpc_encoder.sd_fec\n",
    "ldpc_params = fec.available_ldpc_params()\n",
    "ldpc_params"
   ]
  },
  {
   "cell_type": "markdown",
   "id": "5b4091ba-0dad-43f3-8b85-38b90e347a3a",
   "metadata": {},
   "source": [
    "### Add LDPC Parameters to SD-FEC Internal Memory"
   ]
  },
  {
   "cell_type": "code",
   "execution_count": 3,
   "id": "07f37c08-10fa-4263-bd42-e9a84ee1cd8a",
   "metadata": {},
   "outputs": [
    {
     "name": "stdout",
     "output_type": "stream",
     "text": [
      "Status     Code ID    SC Offset  LA Offset  QC Offset  Code Name \n",
      "------     ------     ------     ------     ------     ------    \n",
      "Loaded     0          0          0          0          docsis_short\n",
      "Loaded     1          2          2          21         docsis_medium\n",
      "Loaded     2          4          4          54         docsis_long\n",
      "Loaded     3          6          6          97         docsis_init_ranging\n",
      "Loaded     4          8          8          112        docsis_fine_ranging\n",
      "Loaded     5          9          9          120        wifi802_11_cr1_2_648\n",
      "Loaded     6          15         15         196        wifi802_11_cr1_2_1296\n",
      "Loaded     7          21         21         240        wifi802_11_cr1_2_1944\n",
      "Loaded     8          27         27         270        wifi802_11_cr2_3_648\n",
      "Loaded     9          31         31         324        wifi802_11_cr2_3_1296\n",
      "Loaded     10         35         35         360        wifi802_11_cr2_3_1944\n",
      "Loaded     11         39         39         388        wifi802_11_cr3_4_648\n",
      "Loaded     12         42         42         436        wifi802_11_cr3_4_1296\n",
      "Loaded     13         45         45         473        wifi802_11_cr3_4_1944\n",
      "\n",
      "Not enough space for QC table: wifi802_11_cr5_6_648. Terminating.\n",
      "\n"
     ]
    }
   ],
   "source": [
    "fec.CORE_ORDER = 0                         # In order outputs\n",
    "fec.CORE_AXIS_ENABLE = 0                   # Ensure FEC is disabled (000000)\n",
    "\n",
    "sc_offset = 0\n",
    "la_offset = 0\n",
    "qc_offset = 0\n",
    "print(\"{:<10} {:<10} {:<10} {:<10} {:<10} {:<10}\".format('Status','Code ID','SC Offset','LA Offset','QC Offset','Code Name'))\n",
    "print(\"{:<10} {:<10} {:<10} {:<10} {:<10} {:<10}\".format('------','------','------','------','------','------'))\n",
    "for code_id in range(len(ldpc_params)):\n",
    "    \n",
    "    code_name = ldpc_params[code_id]\n",
    "    sc_table = fec._code_params.ldpc[code_name]['sc_table']\n",
    "    la_table = fec._code_params.ldpc[code_name]['la_table']\n",
    "    qc_table = fec._code_params.ldpc[code_name]['qc_table']\n",
    "    if type(sc_table) != list : sc_table = [sc_table]\n",
    "\n",
    "    if (sc_offset + len(sc_table)) > len(fec.LDPC_SC_TABLE):\n",
    "        print(\"\\nNot enough space for SC table: %s. Terminating.\\n\" % (code_name))\n",
    "        break\n",
    "    if (la_offset*4 + len(la_table)) > len(fec.LDPC_LA_TABLE):\n",
    "        print(\"\\nNot enough space for LA table: %s. Terminating.\\n\" % (code_name))\n",
    "        break\n",
    "    if (qc_offset*4 + len(qc_table)) > len(fec.LDPC_QC_TABLE):\n",
    "        print(\"\\nNot enough space for QC table: %s. Terminating.\\n\" % (code_name))\n",
    "        break\n",
    "    \n",
    "    print(\"{:<10} {:<10} {:<10} {:<10} {:<10} {:<10}\".format('Loaded',code_id, sc_offset, la_offset, qc_offset, code_name))\n",
    "    fec.add_ldpc_params(code_id, sc_offset, la_offset, qc_offset, code_name)\n",
    "\n",
    "    sc_offset += len(sc_table)\n",
    "    la_offset += int(np.ceil(len(la_table)/4))\n",
    "    qc_offset += int(np.ceil(len(qc_table)/4))\n",
    "    \n",
    "fec.CORE_AXIS_ENABLE = 63                  # Enable FEC (111111)"
   ]
  },
  {
   "cell_type": "markdown",
   "id": "389da505-96f0-4e9a-8b8f-a4a8e5fd12b4",
   "metadata": {},
   "source": [
    "### Select Code to Perform Encoding"
   ]
  },
  {
   "cell_type": "code",
   "execution_count": 4,
   "id": "beb59ff9-671e-4d69-9e3d-cee14bfcf617",
   "metadata": {},
   "outputs": [
    {
     "name": "stdout",
     "output_type": "stream",
     "text": [
      "Block Length (bits): 1120\n",
      "Information Bits: 840\n",
      "Sub-Matrix Size: 56\n"
     ]
    }
   ],
   "source": [
    "code_name = 'docsis_short'\n",
    "code_id = ldpc_params.index(code_name)\n",
    "\n",
    "n = fec._code_params.ldpc[code_name]['n']\n",
    "k = fec._code_params.ldpc[code_name]['k']\n",
    "p = fec._code_params.ldpc[code_name]['p']\n",
    "\n",
    "print('Block Length (bits): %s\\nInformation Bits: %s\\nSub-Matrix Size: %s' % (n, k, p))"
   ]
  },
  {
   "cell_type": "markdown",
   "id": "6dfc9a60-c602-460d-aa16-1e10c7f0663b",
   "metadata": {},
   "source": [
    "### Data Buffers"
   ]
  },
  {
   "cell_type": "code",
   "execution_count": 5,
   "id": "af492628-9c49-4077-af68-b5bea3539777",
   "metadata": {},
   "outputs": [],
   "source": [
    "axis_width = 32 // 8\n",
    "num_words = 1\n",
    "pad = axis_width // num_words\n",
    "\n",
    "K = int(np.ceil(k/8))\n",
    "N = int(np.ceil(n/8))\n",
    "\n",
    "tx_buffer = allocate(shape=(K*pad,), dtype=np.uint8)\n",
    "rx_buffer = allocate(shape=(N*pad,), dtype=np.uint8)\n",
    "\n",
    "for i in range(len(tx_buffer))[::pad]:\n",
    "    tx_buffer[i] = np.random.randint(1,255)"
   ]
  },
  {
   "cell_type": "markdown",
   "id": "c373f3ff-611c-424d-850e-bda496dd3951",
   "metadata": {},
   "source": [
    "### Control Buffer"
   ]
  },
  {
   "cell_type": "code",
   "execution_count": 6,
   "id": "8f134c67-f311-4205-bdc2-a1507be4b2e7",
   "metadata": {},
   "outputs": [
    {
     "name": "stdout",
     "output_type": "stream",
     "text": [
      "Code ID:  0\n",
      "Code Name:  0\n"
     ]
    }
   ],
   "source": [
    "def non_5G_ldpc_ctrl_enc(id, code):\n",
    "    id = '{0:08b}'.format(id)\n",
    "    reserved = '{0:017b}'.format(0)\n",
    "    code = '{0:07b}'.format(code)\n",
    "    \n",
    "    print('Code ID: ', int(id,2))\n",
    "    print('Code Name: ', int(code,2))\n",
    "    \n",
    "    ctrl = id + reserved + code\n",
    "    \n",
    "    return(int(ctrl,2))\n",
    "\n",
    "ctrl_buffer = allocate(shape=(1,), dtype=np.uint32)\n",
    "\n",
    "ctrl_buffer[0] = non_5G_ldpc_ctrl_enc(code_id, 0)"
   ]
  },
  {
   "cell_type": "markdown",
   "id": "dc72ae7d-b4f3-4331-b2a1-a0f89c299aa3",
   "metadata": {},
   "source": [
    "### Status Buffer"
   ]
  },
  {
   "cell_type": "code",
   "execution_count": 7,
   "id": "94d3264f-b343-4b8c-8193-c29cd88ca62f",
   "metadata": {},
   "outputs": [],
   "source": [
    "def non_5G_ldpc_status_enc(status):\n",
    "    binary = '{0:032b}'.format(status)\n",
    "    \n",
    "    id = binary[0:8]\n",
    "    hard_op = binary[17]\n",
    "    op = binary[18]\n",
    "    code = binary[24:32]\n",
    "\n",
    "    print('Code ID: ', int(id,2))\n",
    "    print('Hard Output: ', int(hard_op,2))\n",
    "    print('Operation: ', int(op,2))\n",
    "    print('Code Name: ', int(code,2))\n",
    "    \n",
    "status_buffer = allocate(shape=(1,), dtype=np.uint32)"
   ]
  },
  {
   "cell_type": "markdown",
   "id": "f7330d19-42fa-4a1a-af55-2c3691994d1d",
   "metadata": {},
   "source": [
    "### Transfer Data"
   ]
  },
  {
   "cell_type": "code",
   "execution_count": 8,
   "id": "4539b4cf-5fe1-4bc4-9c8f-f8ff1a7cf591",
   "metadata": {},
   "outputs": [],
   "source": [
    "dma_data = ol.ldpc_encoder.axi_dma_data\n",
    "dma_ctrl = ol.ldpc_encoder.axi_dma_ctrl\n",
    "\n",
    "dma_ctrl.sendchannel.transfer(ctrl_buffer)\n",
    "dma_data.sendchannel.transfer(tx_buffer)\n",
    "dma_ctrl.recvchannel.transfer(status_buffer)\n",
    "dma_data.recvchannel.transfer(rx_buffer)\n",
    "\n",
    "dma_ctrl.sendchannel.wait()\n",
    "dma_data.sendchannel.wait()\n",
    "dma_data.recvchannel.wait()\n",
    "dma_ctrl.recvchannel.wait()"
   ]
  },
  {
   "cell_type": "markdown",
   "id": "b37168d7-96f2-4ded-897c-71d2a37c2f25",
   "metadata": {},
   "source": [
    "### Inspect Data"
   ]
  },
  {
   "cell_type": "code",
   "execution_count": 9,
   "id": "0ee1a794-85c6-4dd6-923e-2d89fdb2c707",
   "metadata": {},
   "outputs": [
    {
     "name": "stdout",
     "output_type": "stream",
     "text": [
      "\n",
      "Status - \n",
      "Code ID:  0\n",
      "Hard Output:  1\n",
      "Operation:  1\n",
      "Code Name:  0\n",
      "\n",
      "True:  docsis_short\n"
     ]
    }
   ],
   "source": [
    "import pandas as pd\n",
    "pd.set_option('display.max_rows', 10000)\n",
    "\n",
    "print('\\nStatus - ')\n",
    "non_5G_ldpc_status_enc(status_buffer[0])\n",
    "\n",
    "tx_frame = pd.DataFrame({'TX': tx_buffer[::pad]})\n",
    "rx_frame = pd.DataFrame({'RX': rx_buffer[::pad]})\n",
    "\n",
    "compare = pd.concat([tx_frame, rx_frame], axis=1)\n",
    "\n",
    "if not (tx_buffer[0:(K-1)*pad] == rx_buffer[0:(K-1)*pad]).all():\n",
    "    print('\\nFalse: ', code_name, np.asarray(np.where(tx_buffer[0:(K-1)*pad] != rx_buffer[0:(K-1)*pad]))/pad)\n",
    "else:\n",
    "    print('\\nTrue: ', code_name)"
   ]
  },
  {
   "cell_type": "markdown",
   "id": "5491a469-8af0-49bd-b104-d83e8445403d",
   "metadata": {},
   "source": [
    "## Hard to Soft"
   ]
  },
  {
   "cell_type": "markdown",
   "id": "33d660db-7842-4cb1-a71c-aa7a973ba288",
   "metadata": {},
   "source": [
    "### Serialise Data"
   ]
  },
  {
   "cell_type": "code",
   "execution_count": 10,
   "id": "90abc909-2bdb-465a-8172-17a049cd3fa0",
   "metadata": {
    "tags": []
   },
   "outputs": [
    {
     "name": "stdout",
     "output_type": "stream",
     "text": [
      "1010000101110100010110001100111000110011110110001010000000110011110111001011100000110101110110101111111010100000101001100010000100010001111001011000110101010111010110001000111001001100011001111101110101111000111000110001100111101000000110111010100001000010011011110011001010011110010101011110010001111100110111110110101110000111110110100001010111011101000110101011111100000001000011011000011100110010100100110110000101101000100010100110101000101010001010000000001101011001011101111001011100010000101110011001111101011100010111001001000110001001000011100110011111101000010111010010001000110001110101010001000010011110110001000110010100000100010010100110000010110000100011000111011000010011100101111100100010101011010110000110101100100011101110111011001010100111100101000100110110101011000010111111001111010011010001110011101000010010110010000101111110101001111100011001011111111010000100100101100110110000011111011011111111010110110101001100111100010011011101000010110011000101000101001011000000100010110111000000011011010110111110100111001000110110110100011000100011110100010000111100110110101110000111100010010011001011\n"
     ]
    }
   ],
   "source": [
    "hard_data = rx_buffer[::pad]\n",
    "\n",
    "hard_binary = ''\n",
    "for hd in hard_data:\n",
    "    h_bin = '{0:08b}'.format(hd)\n",
    "    hard_binary += h_bin[::-1] # Decoder accepts LSB first\n",
    "    \n",
    "print(hard_binary)"
   ]
  },
  {
   "cell_type": "markdown",
   "id": "0514ab23-8c0f-4e75-b271-ef36ece3eaf7",
   "metadata": {
    "tags": []
   },
   "source": [
    "### Modulate Data"
   ]
  },
  {
   "cell_type": "code",
   "execution_count": 23,
   "id": "515b633b-edb0-4725-862e-0891453a9a5e",
   "metadata": {
    "tags": []
   },
   "outputs": [
    {
     "data": {
      "text/plain": [
       "<function matplotlib.pyplot.show(*args, **kw)>"
      ]
     },
     "execution_count": 23,
     "metadata": {},
     "output_type": "execute_result"
    },
    {
     "data": {
      "image/png": "[encoded data removed]",
      "text/plain": [
       "<Figure size 432x288 with 1 Axes>"
      ]
     },
     "metadata": {
      "needs_background": "light"
     },
     "output_type": "display_data"
    }
   ],
   "source": [
    "L = 2 # Symbol length\n",
    "\n",
    "modulated = np.empty(0)\n",
    "for i in range(0, len(hard_binary), L):\n",
    "    symbol = hard_binary[i : i+L]\n",
    "    \n",
    "    if symbol == '00':\n",
    "        mod = np.exp(3j*np.pi/4)\n",
    "    elif symbol == '01':\n",
    "        mod = np.exp(5j*np.pi/4)\n",
    "    elif symbol == '11':\n",
    "        mod = np.exp(7j*np.pi/4)\n",
    "    elif symbol == '10':\n",
    "        mod = np.exp(1j*np.pi/4)\n",
    "        \n",
    "    modulated = np.append(modulated, mod)\n",
    "    \n",
    "x = [n.real for n in modulated]\n",
    "y = [n.imag for n in modulated]   \n",
    "\n",
    "plt.scatter(x, y)\n",
    "plt.show"
   ]
  },
  {
   "cell_type": "markdown",
   "id": "d75f934f-6ea0-4da8-af20-f4ec45c206b9",
   "metadata": {},
   "source": [
    "### AWGN Channel"
   ]
  },
  {
   "cell_type": "code",
   "execution_count": 46,
   "id": "18a90afe-c068-46a0-af96-6db9a7480402",
   "metadata": {},
   "outputs": [
    {
     "data": {
      "text/plain": [
       "560"
      ]
     },
     "execution_count": 46,
     "metadata": {},
     "output_type": "execute_result"
    }
   ],
   "source": [
    "len(modulated)"
   ]
  },
  {
   "cell_type": "code",
   "execution_count": 50,
   "id": "84753e5e-e8df-4959-bdb5-615394f74bd1",
   "metadata": {},
   "outputs": [
    {
     "data": {
      "text/plain": [
       "<function matplotlib.pyplot.show(*args, **kw)>"
      ]
     },
     "execution_count": 50,
     "metadata": {},
     "output_type": "execute_result"
    },
    {
     "data": {
      "image/png": "[encoded data removed]",
      "text/plain": [
       "<Figure size 432x288 with 1 Axes>"
      ]
     },
     "metadata": {
      "needs_background": "light"
     },
     "output_type": "display_data"
    }
   ],
   "source": [
    "SNR = 10\n",
    "signal_power = np.sum(np.square(np.absolute(modulated)))/len(modulated)\n",
    "N = signal_power/SNR\n",
    "noise_variance = N/2\n",
    "sigma = np.sqrt(noise_variance)\n",
    "\n",
    "noise = np.random.normal(0, sigma, len(modulated)*2).view(np.complex128)\n",
    "\n",
    "noise_modulated = noise + modulated\n",
    "\n",
    "x = [n.real for n in noise_modulated]\n",
    "y = [n.imag for n in noise_modulated]   \n",
    "\n",
    "plt.scatter(x, y)\n",
    "plt.show"
   ]
  },
  {
   "cell_type": "markdown",
   "id": "dfa76180-63e8-402a-8c1e-c62e257a2a23",
   "metadata": {},
   "source": [
    "### Soft-Demodulate Data"
   ]
  },
  {
   "cell_type": "code",
   "execution_count": null,
   "id": "b0e0abdb-e47a-4cd6-8294-c933b0637a1c",
   "metadata": {},
   "outputs": [],
   "source": [
    "# Need to work this bit out!!!"
   ]
  },
  {
   "cell_type": "markdown",
   "id": "873081ec-9c7b-4cfd-ad6f-11e9095176c7",
   "metadata": {},
   "source": [
    "### Format LLR Values"
   ]
  },
  {
   "cell_type": "code",
   "execution_count": 37,
   "id": "380d0bac-1842-4cf1-9948-9630b4113a54",
   "metadata": {},
   "outputs": [],
   "source": [
    "def format_llr(v):\n",
    "    # Perform symmetric saturation\n",
    "    if v > 7.75:\n",
    "        v = 7.75\n",
    "    elif v < -7.75:\n",
    "        v = -7.75\n",
    "\n",
    "    v = int(v * pow(2,2)) # Bit shift to expose 2 fractional\n",
    "\n",
    "    # Convert to binary (2's complement)\n",
    "    if v >= 0:\n",
    "        b = '{0:06b}'.format(v)\n",
    "    else:\n",
    "        b = '{0:06b}'.format(pow(2,6)+v)\n",
    "\n",
    "    # Sign extend to 8-bits\n",
    "    if b[0] == '0': # Number is positive\n",
    "        b_ex = '00' + b\n",
    "    else: # Number is negative\n",
    "        b_ex = '11' + b\n",
    "\n",
    "    return int(b_ex,2)"
   ]
  },
  {
   "cell_type": "markdown",
   "id": "c87c93b6-e89d-4a4e-9979-ae6eff7314da",
   "metadata": {},
   "source": [
    "## Decoder"
   ]
  },
  {
   "cell_type": "markdown",
   "id": "d150d335-6934-46ee-867b-83928599fac6",
   "metadata": {},
   "source": [
    "### Add LDPC Parameters to SD-FEC Internal Memory"
   ]
  },
  {
   "cell_type": "code",
   "execution_count": null,
   "id": "43c48f59-cf62-4e08-a631-7c4f7e11fdc3",
   "metadata": {},
   "outputs": [],
   "source": [
    "fec = ol.ldpc_decoder.sd_fec\n",
    "ldpc_params = fec.available_ldpc_params()\n",
    "\n",
    "fec.CORE_ORDER = 0                         # In order outputs\n",
    "fec.CORE_AXIS_ENABLE = 0                   # Ensure FEC is disabled (000000)\n",
    "\n",
    "sc_offset = 0\n",
    "la_offset = 0\n",
    "qc_offset = 0\n",
    "print(\"{:<10} {:<10} {:<10} {:<10} {:<10} {:<10}\".format('Status','Code ID','SC Offset','LA Offset','QC Offset','Code Name'))\n",
    "print(\"{:<10} {:<10} {:<10} {:<10} {:<10} {:<10}\".format('------','------','------','------','------','------'))\n",
    "for code_id in range(len(ldpc_params)):\n",
    "    \n",
    "    code_name = ldpc_params[code_id]\n",
    "    sc_table = fec._code_params.ldpc[code_name]['sc_table']\n",
    "    la_table = fec._code_params.ldpc[code_name]['la_table']\n",
    "    qc_table = fec._code_params.ldpc[code_name]['qc_table']\n",
    "    if type(sc_table) != list : sc_table = [sc_table]\n",
    "\n",
    "    if (sc_offset + len(sc_table)) > len(fec.LDPC_SC_TABLE):\n",
    "        print(\"\\nNot enough space for SC table: %s. Terminating.\\n\" % (code_name))\n",
    "        break\n",
    "    if (la_offset*4 + len(la_table)) > len(fec.LDPC_LA_TABLE):\n",
    "        print(\"\\nNot enough space for LA table: %s. Terminating.\\n\" % (code_name))\n",
    "        break\n",
    "    if (qc_offset*4 + len(qc_table)) > len(fec.LDPC_QC_TABLE):\n",
    "        print(\"\\nNot enough space for QC table: %s. Terminating.\\n\" % (code_name))\n",
    "        break\n",
    "    \n",
    "    print(\"{:<10} {:<10} {:<10} {:<10} {:<10} {:<10}\".format('Loaded',code_id, sc_offset, la_offset, qc_offset, code_name))\n",
    "    fec.add_ldpc_params(code_id, sc_offset, la_offset, qc_offset, code_name)\n",
    "\n",
    "    sc_offset += len(sc_table)\n",
    "    la_offset += int(np.ceil(len(la_table)/4))\n",
    "    qc_offset += int(np.ceil(len(qc_table)/4))\n",
    "    \n",
    "fec.CORE_AXIS_ENABLE = 63                  # Enable FEC (111111)"
   ]
  },
  {
   "cell_type": "markdown",
   "id": "8c236131-cf59-4ac3-a25a-66eb6375108f",
   "metadata": {},
   "source": [
    "### Select Code to Perform Decoding"
   ]
  },
  {
   "cell_type": "code",
   "execution_count": null,
   "id": "8a71c9d1-aac5-442c-aace-863d516318f6",
   "metadata": {},
   "outputs": [],
   "source": [
    "code_name = 'docsis_short'\n",
    "code_id = ldpc_params.index(code_name)\n",
    "\n",
    "n = fec._code_params.ldpc[code_name]['n']\n",
    "k = fec._code_params.ldpc[code_name]['k']\n",
    "p = fec._code_params.ldpc[code_name]['p']\n",
    "\n",
    "print('Block Length (bits): %s\\nInformation Bits: %s\\nSub-Matrix Size: %s' % (n, k, p))"
   ]
  },
  {
   "cell_type": "markdown",
   "id": "4c34f1c9-2cc6-477c-ace4-1183995febdb",
   "metadata": {},
   "source": [
    "### Data Buffers"
   ]
  },
  {
   "cell_type": "code",
   "execution_count": null,
   "id": "d0a51dae-8f7f-4baf-8414-079a145de828",
   "metadata": {},
   "outputs": [],
   "source": [
    "axis_width = 32 // 8\n",
    "num_words = 1\n",
    "pad = axis_width // num_words\n",
    "\n",
    "K = int(np.ceil(k/8))\n",
    "N = int(np.ceil(n/8))\n",
    "\n",
    "tx_buffer = allocate(shape=(n*pad,), dtype=np.uint8)\n",
    "rx_buffer = allocate(shape=(K*pad,), dtype=np.uint8)\n",
    "\n",
    "for i in range(len(tx_buffer))[::pad]:\n",
    "    tx_buffer[i] = np.random.randint(1,255)"
   ]
  },
  {
   "cell_type": "markdown",
   "id": "7fc266ed-f9d1-4481-9834-3049af3627c8",
   "metadata": {},
   "source": [
    "### Control Buffer"
   ]
  },
  {
   "cell_type": "code",
   "execution_count": null,
   "id": "f0b6123d-bec7-41ce-b3af-76f01d319ecd",
   "metadata": {},
   "outputs": [],
   "source": [
    "def non_5G_ldpc_ctrl_dec(id, \n",
    "                         max_iterations, \n",
    "                         term_on_no_change, \n",
    "                         term_on_pass, \n",
    "                         include_parity_op,\n",
    "                         hard_op, \n",
    "                         code):\n",
    "    id = '{0:08b}'.format(id)                               # (31:24) uint8\n",
    "    max_iterations = '{0:06b}'.format(max_iterations)       # (23:18) uint6\n",
    "    term_on_no_change = '{0:01b}'.format(term_on_no_change) # (17:17) bit1\n",
    "    term_on_pass = '{0:01b}'.format(term_on_pass)           # (16:16) bit1\n",
    "    include_parity_op = '{0:01b}'.format(include_parity_op) # (15:15) bit1\n",
    "    hard_op = '{0:01b}'.format(hard_op)                     # (14:14) bit1\n",
    "    reserved = '{0:07b}'.format(0)                          # (13:7) uint7\n",
    "    code = '{0:07b}'.format(code)                           # (6:0) uint7\n",
    "    \n",
    "    print('\\tID: ', int(id,2))\n",
    "    print('\\tMax Iter: ', int(max_iterations,2))\n",
    "    print('\\tTerm No Change: ', int(term_on_no_change,2))\n",
    "    print('\\tTerm Pass: ', int(term_on_pass,2))\n",
    "    print('\\tParity Pass: ', int(include_parity_op,2))\n",
    "    print('\\tHard OP: ', int(hard_op,2))\n",
    "    print('\\tCode: ', int(code,2))\n",
    "    \n",
    "    ctrl = id + max_iterations + term_on_no_change + term_on_pass \\\n",
    "    + include_parity_op + hard_op + reserved + code\n",
    "    print('\\tBinary: ', ctrl)\n",
    "    \n",
    "    return(int(ctrl,2))\n",
    "\n",
    "ctrl_buffer = allocate(shape=(1,), dtype=np.uint32)\n",
    "\n",
    "ctrl_buffer[0] = non_5G_ldpc_ctrl_enc(code_id, 0)"
   ]
  },
  {
   "cell_type": "markdown",
   "id": "14f0957f-f397-464f-bf04-2e342dd5e40e",
   "metadata": {},
   "source": [
    "### Status Buffer"
   ]
  },
  {
   "cell_type": "code",
   "execution_count": null,
   "id": "a882c433-5b9c-4af4-98c0-327418572a2a",
   "metadata": {},
   "outputs": [],
   "source": [
    "status_buffer = allocate(shape=(1,), dtype=np.uint32)"
   ]
  },
  {
   "cell_type": "markdown",
   "id": "bdc9db80-f439-4c77-87af-72b9957b110a",
   "metadata": {},
   "source": [
    "### Transfer Data"
   ]
  },
  {
   "cell_type": "code",
   "execution_count": null,
   "id": "cc288d31-eef4-4452-8614-f10078a68726",
   "metadata": {},
   "outputs": [],
   "source": [
    "dma_data = ol.ldpc_decoder.axi_dma_data\n",
    "dma_ctrl = ol.ldpc_decoder.axi_dma_ctrl\n",
    "\n",
    "dma_ctrl.sendchannel.transfer(ctrl_buffer)\n",
    "dma_data.sendchannel.transfer(tx_buffer)\n",
    "dma_ctrl.recvchannel.transfer(status_buffer)\n",
    "dma_data.recvchannel.transfer(rx_buffer)\n",
    "\n",
    "dma_ctrl.sendchannel.wait()\n",
    "dma_data.sendchannel.wait()\n",
    "dma_data.recvchannel.wait()\n",
    "dma_ctrl.recvchannel.wait()"
   ]
  },
  {
   "cell_type": "markdown",
   "id": "6b7173d4-5ae4-438e-a6d8-f4d861df08a9",
   "metadata": {},
   "source": [
    "### Inspect Data"
   ]
  }
 ],
 "metadata": {
  "kernelspec": {
   "display_name": "Python 3",
   "language": "python",
   "name": "python3"
  },
  "language_info": {
   "codemirror_mode": {
    "name": "ipython",
    "version": 3
   },
   "file_extension": ".py",
   "mimetype": "text/x-python",
   "name": "python",
   "nbconvert_exporter": "python",
   "pygments_lexer": "ipython3",
   "version": "3.8.2"
  }
 },
 "nbformat": 4,
 "nbformat_minor": 5
}
