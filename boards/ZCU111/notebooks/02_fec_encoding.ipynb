{
 "cells": [
  {
   "cell_type": "markdown",
   "id": "14f16c4a-5e61-49ed-b2ae-e67f9e5912fb",
   "metadata": {},
   "source": [
    "# Forward Error Correction Encoding"
   ]
  },
  {
   "cell_type": "code",
   "execution_count": 13,
   "id": "920bdac9-e14f-4666-b991-0b782d71ce57",
   "metadata": {},
   "outputs": [],
   "source": [
    "from pynq import allocate\n",
    "from pynq import Overlay\n",
    "import numpy as np\n",
    "import xsdfec\n",
    "\n",
    "ol = Overlay('bitstream/ldpc_loopback.bit')"
   ]
  },
  {
   "cell_type": "code",
   "execution_count": 14,
   "id": "917bf98d-db53-49b2-b5ca-e180be7de114",
   "metadata": {},
   "outputs": [
    {
     "data": {
      "text/plain": [
       "['docsis_short',\n",
       " 'docsis_medium',\n",
       " 'docsis_long',\n",
       " 'docsis_init_ranging',\n",
       " 'docsis_fine_ranging',\n",
       " 'wifi802_11_cr1_2_648',\n",
       " 'wifi802_11_cr1_2_1296',\n",
       " 'wifi802_11_cr1_2_1944',\n",
       " 'wifi802_11_cr2_3_648',\n",
       " 'wifi802_11_cr2_3_1296',\n",
       " 'wifi802_11_cr2_3_1944',\n",
       " 'wifi802_11_cr3_4_648',\n",
       " 'wifi802_11_cr3_4_1296',\n",
       " 'wifi802_11_cr3_4_1944',\n",
       " 'wifi802_11_cr5_6_648',\n",
       " 'wifi802_11_cr5_6_1296',\n",
       " 'wifi802_11_cr5_6_1944',\n",
       " '5g_graph1_set1_l5_p32',\n",
       " '5g_graph1_set1_l5_p64',\n",
       " '5g_graph1_set1_l5_p128',\n",
       " '5g_graph1_set1_l5_p256',\n",
       " '5g_graph1_set2_l5_p384',\n",
       " '5g_graph1_set1_l46_p32',\n",
       " '5g_graph1_set1_l46_p64',\n",
       " '5g_graph1_set1_l46_p128',\n",
       " '5g_graph1_set1_l46_p256',\n",
       " '5g_graph1_set2_l46_p384',\n",
       " '5g_graph2_set1_l7_p32',\n",
       " '5g_graph2_set1_l7_p64',\n",
       " '5g_graph2_set1_l7_p128',\n",
       " '5g_graph2_set1_l7_p256',\n",
       " '5g_graph2_set2_l7_p384',\n",
       " '5g_graph2_set1_l42_p32',\n",
       " '5g_graph2_set1_l42_p64',\n",
       " '5g_graph2_set1_l42_p128',\n",
       " '5g_graph2_set1_l42_p256',\n",
       " '5g_graph2_set2_l42_p384']"
      ]
     },
     "execution_count": 14,
     "metadata": {},
     "output_type": "execute_result"
    }
   ],
   "source": [
    "fec = ol.ldpc_encoder.sd_fec\n",
    "ldpc_params = fec.available_ldpc_params()\n",
    "ldpc_params"
   ]
  },
  {
   "cell_type": "code",
   "execution_count": 15,
   "id": "db93f5e4-52d7-4b65-806d-f10a5ae3c4ff",
   "metadata": {},
   "outputs": [
    {
     "name": "stdout",
     "output_type": "stream",
     "text": [
      "Status     Code ID    SC Offset  LA Offset  QC Offset  Code Name \n",
      "------     ------     ------     ------     ------     ------    \n",
      "Loaded     0          0          0          0          docsis_short\n",
      "Loaded     1          2          2          21         docsis_medium\n",
      "Loaded     2          4          4          54         docsis_long\n",
      "Loaded     3          6          6          97         docsis_init_ranging\n",
      "Loaded     4          8          8          112        docsis_fine_ranging\n",
      "Loaded     5          9          9          120        wifi802_11_cr1_2_648\n",
      "Loaded     6          15         15         196        wifi802_11_cr1_2_1296\n",
      "Loaded     7          21         21         240        wifi802_11_cr1_2_1944\n",
      "Loaded     8          27         27         270        wifi802_11_cr2_3_648\n",
      "Loaded     9          31         31         324        wifi802_11_cr2_3_1296\n",
      "Loaded     10         35         35         360        wifi802_11_cr2_3_1944\n",
      "Loaded     11         39         39         388        wifi802_11_cr3_4_648\n",
      "Loaded     12         42         42         436        wifi802_11_cr3_4_1296\n",
      "Loaded     13         45         45         473        wifi802_11_cr3_4_1944\n",
      "\n",
      "Not enough space for QC table: wifi802_11_cr5_6_648. Terminating.\n",
      "\n"
     ]
    }
   ],
   "source": [
    "fec.CORE_ORDER = 0                         # In order outputs\n",
    "fec.CORE_AXIS_ENABLE = 0                   # Ensure FEC is disabled (000000)\n",
    "\n",
    "sc_offset = 0\n",
    "la_offset = 0\n",
    "qc_offset = 0\n",
    "print(\"{:<10} {:<10} {:<10} {:<10} {:<10} {:<10}\".format('Status','Code ID','SC Offset','LA Offset','QC Offset','Code Name'))\n",
    "print(\"{:<10} {:<10} {:<10} {:<10} {:<10} {:<10}\".format('------','------','------','------','------','------'))\n",
    "for code_id in range(len(ldpc_params)):\n",
    "    \n",
    "    code_name = ldpc_params[code_id]\n",
    "    sc_table = fec._code_params.ldpc[code_name]['sc_table']\n",
    "    la_table = fec._code_params.ldpc[code_name]['la_table']\n",
    "    qc_table = fec._code_params.ldpc[code_name]['qc_table']\n",
    "    if type(sc_table) != list : sc_table = [sc_table]\n",
    "\n",
    "    if (sc_offset + len(sc_table)) > len(fec.LDPC_SC_TABLE):\n",
    "        print(\"\\nNot enough space for SC table: %s. Terminating.\\n\" % (code_name))\n",
    "        break\n",
    "    if (la_offset*4 + len(la_table)) > len(fec.LDPC_LA_TABLE):\n",
    "        print(\"\\nNot enough space for LA table: %s. Terminating.\\n\" % (code_name))\n",
    "        break\n",
    "    if (qc_offset*4 + len(qc_table)) > len(fec.LDPC_QC_TABLE):\n",
    "        print(\"\\nNot enough space for QC table: %s. Terminating.\\n\" % (code_name))\n",
    "        break\n",
    "    \n",
    "    print(\"{:<10} {:<10} {:<10} {:<10} {:<10} {:<10}\".format('Loaded',code_id, sc_offset, la_offset, qc_offset, code_name))\n",
    "    fec.add_ldpc_params(code_id, sc_offset, la_offset, qc_offset, code_name)\n",
    "\n",
    "    sc_offset += len(sc_table)\n",
    "    la_offset += int(np.ceil(len(la_table)/4))\n",
    "    qc_offset += int(np.ceil(len(qc_table)/4))\n",
    "    \n",
    "fec.CORE_AXIS_ENABLE = 63                  # Enable FEC (111111)"
   ]
  },
  {
   "cell_type": "code",
   "execution_count": 16,
   "id": "c4d46ae4-2371-46c0-92f3-0a4912663e2a",
   "metadata": {},
   "outputs": [
    {
     "name": "stdout",
     "output_type": "stream",
     "text": [
      "Block Length (bits): 1120\n",
      "Information Bits: 840\n",
      "Sub-Matrix Size: 56\n"
     ]
    }
   ],
   "source": [
    "code_name = 'docsis_short'\n",
    "code_id = ldpc_params.index(code_name)\n",
    "\n",
    "n = fec._code_params.ldpc[code_name]['n']\n",
    "k = fec._code_params.ldpc[code_name]['k']\n",
    "p = fec._code_params.ldpc[code_name]['p']\n",
    "\n",
    "print('Block Length (bits): %s\\nInformation Bits: %s\\nSub-Matrix Size: %s' % (n, k, p))"
   ]
  },
  {
   "cell_type": "code",
   "execution_count": 17,
   "id": "c0f3819e-84a0-4ef3-a697-2137c43c84da",
   "metadata": {},
   "outputs": [],
   "source": [
    "axis_width = 32 // 8\n",
    "num_words = 1\n",
    "pad = axis_width // num_words\n",
    "\n",
    "K = int(np.ceil(k/8))\n",
    "N = int(np.ceil(n/8))\n",
    "\n",
    "tx_buffer = allocate(shape=(K*pad,), dtype=np.uint8)\n",
    "rx_buffer = allocate(shape=(N*pad,), dtype=np.uint8)\n",
    "\n",
    "for i in range(len(tx_buffer))[::pad]:\n",
    "    tx_buffer[i] = np.random.randint(1,255)"
   ]
  },
  {
   "cell_type": "code",
   "execution_count": 18,
   "id": "189caadf-e4d3-4835-a995-7bc14ddff2ad",
   "metadata": {},
   "outputs": [
    {
     "name": "stdout",
     "output_type": "stream",
     "text": [
      "Code ID:  0\n",
      "Code Name:  0\n"
     ]
    }
   ],
   "source": [
    "def non_5G_ldpc_ctrl_enc(id, code):\n",
    "    id = '{0:08b}'.format(id)\n",
    "    reserved = '{0:017b}'.format(0)\n",
    "    code = '{0:07b}'.format(code)\n",
    "    \n",
    "    print('Code ID: ', int(id,2))\n",
    "    print('Code Name: ', int(code,2))\n",
    "    \n",
    "    ctrl = id + reserved + code\n",
    "    \n",
    "    return(int(ctrl,2))\n",
    "\n",
    "ctrl_buffer = allocate(shape=(1,), dtype=np.uint32)\n",
    "\n",
    "ctrl_buffer[0] = non_5G_ldpc_ctrl_enc(code_id, 0)"
   ]
  },
  {
   "cell_type": "code",
   "execution_count": 19,
   "id": "d82c8f3c-4d6b-47ef-a5e5-dc3124b7d7cb",
   "metadata": {},
   "outputs": [],
   "source": [
    "def non_5G_ldpc_status_enc(status):\n",
    "    binary = '{0:032b}'.format(status)\n",
    "    \n",
    "    id = binary[0:8]\n",
    "    hard_op = binary[17]\n",
    "    op = binary[18]\n",
    "    code = binary[24:32]\n",
    "\n",
    "    print('Code ID: ', int(id,2))\n",
    "    print('Hard Output: ', int(hard_op,2))\n",
    "    print('Operation: ', int(op,2))\n",
    "    print('Code Name: ', int(code,2))\n",
    "    \n",
    "status_buffer = allocate(shape=(1,), dtype=np.uint32)"
   ]
  },
  {
   "cell_type": "code",
   "execution_count": 20,
   "id": "17392d74-b09a-46b4-9571-aaa1262a105c",
   "metadata": {},
   "outputs": [],
   "source": [
    "dma_data = ol.ldpc_encoder.axi_dma_data\n",
    "dma_ctrl = ol.ldpc_encoder.axi_dma_ctrl\n",
    "\n",
    "dma_ctrl.sendchannel.transfer(ctrl_buffer)\n",
    "dma_data.sendchannel.transfer(tx_buffer)\n",
    "dma_ctrl.recvchannel.transfer(status_buffer)\n",
    "dma_data.recvchannel.transfer(rx_buffer)\n",
    "\n",
    "dma_ctrl.sendchannel.wait()\n",
    "dma_data.sendchannel.wait()\n",
    "dma_data.recvchannel.wait()\n",
    "dma_ctrl.recvchannel.wait()"
   ]
  },
  {
   "cell_type": "code",
   "execution_count": 21,
   "id": "a8b01c32-dbd9-4deb-bf5e-b001190f0e1f",
   "metadata": {},
   "outputs": [
    {
     "name": "stdout",
     "output_type": "stream",
     "text": [
      "\n",
      "Status - \n",
      "Code ID:  0\n",
      "Hard Output:  1\n",
      "Operation:  1\n",
      "Code Name:  0\n",
      "\n",
      "True:  docsis_short\n"
     ]
    }
   ],
   "source": [
    "import pandas as pd\n",
    "pd.set_option('display.max_rows', 10000)\n",
    "\n",
    "print('\\nStatus - ')\n",
    "non_5G_ldpc_status_enc(status_buffer[0])\n",
    "\n",
    "tx_frame = pd.DataFrame({'TX': tx_buffer[::pad]})\n",
    "rx_frame = pd.DataFrame({'RX': rx_buffer[::pad]})\n",
    "\n",
    "compare = pd.concat([tx_frame, rx_frame], axis=1)\n",
    "\n",
    "if not (tx_buffer[0:(K-1)*pad] == rx_buffer[0:(K-1)*pad]).all():\n",
    "    print('\\nFalse: ', code_name, np.asarray(np.where(tx_buffer[0:(K-1)*pad] != rx_buffer[0:(K-1)*pad]))/pad)\n",
    "else:\n",
    "    print('\\nTrue: ', code_name)"
   ]
  },
  {
   "cell_type": "code",
   "execution_count": 22,
   "id": "f1ddb420-56aa-4b9f-bc60-c2018db11479",
   "metadata": {},
   "outputs": [
    {
     "name": "stdout",
     "output_type": "stream",
     "text": [
      "Stored 'tx_buffer' (PynqBuffer)\n",
      "Stored 'rx_buffer' (PynqBuffer)\n",
      "Stored 'pad' (int)\n"
     ]
    }
   ],
   "source": [
    "%store tx_buffer rx_buffer pad"
   ]
  }
 ],
 "metadata": {
  "kernelspec": {
   "display_name": "Python 3",
   "language": "python",
   "name": "python3"
  },
  "language_info": {
   "codemirror_mode": {
    "name": "ipython",
    "version": 3
   },
   "file_extension": ".py",
   "mimetype": "text/x-python",
   "name": "python",
   "nbconvert_exporter": "python",
   "pygments_lexer": "ipython3",
   "version": "3.8.2"
  }
 },
 "nbformat": 4,
 "nbformat_minor": 5
}
