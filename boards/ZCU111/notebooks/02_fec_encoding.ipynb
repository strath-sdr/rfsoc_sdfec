{
 "cells": [
  {
   "cell_type": "markdown",
   "id": "14f16c4a-5e61-49ed-b2ae-e67f9e5912fb",
   "metadata": {},
   "source": [
    "# Forward Error Correction Encoding"
   ]
  },
  {
   "cell_type": "markdown",
   "id": "55ea72bd-2b18-4823-b180-1752920fe67c",
   "metadata": {},
   "source": [
    "Download bitstream to board."
   ]
  },
  {
   "cell_type": "code",
   "execution_count": 1,
   "id": "920bdac9-e14f-4666-b991-0b782d71ce57",
   "metadata": {},
   "outputs": [
    {
     "data": {
      "application/javascript": [
       "\n",
       "try {\n",
       "require(['notebook/js/codecell'], function(codecell) {\n",
       "  codecell.CodeCell.options_default.highlight_modes[\n",
       "      'magic_text/x-csrc'] = {'reg':[/^%%microblaze/]};\n",
       "  Jupyter.notebook.events.one('kernel_ready.Kernel', function(){\n",
       "      Jupyter.notebook.get_cells().map(function(cell){\n",
       "          if (cell.cell_type == 'code'){ cell.auto_highlight(); } }) ;\n",
       "  });\n",
       "});\n",
       "} catch (e) {};\n"
      ]
     },
     "metadata": {},
     "output_type": "display_data"
    },
    {
     "data": {
      "application/javascript": [
       "\n",
       "try {\n",
       "require(['notebook/js/codecell'], function(codecell) {\n",
       "  codecell.CodeCell.options_default.highlight_modes[\n",
       "      'magic_text/x-csrc'] = {'reg':[/^%%pybind11/]};\n",
       "  Jupyter.notebook.events.one('kernel_ready.Kernel', function(){\n",
       "      Jupyter.notebook.get_cells().map(function(cell){\n",
       "          if (cell.cell_type == 'code'){ cell.auto_highlight(); } }) ;\n",
       "  });\n",
       "});\n",
       "} catch (e) {};\n"
      ]
     },
     "metadata": {},
     "output_type": "display_data"
    }
   ],
   "source": [
    "from pynq import allocate\n",
    "from pynq import Overlay\n",
    "import numpy as np\n",
    "import xsdfec\n",
    "\n",
    "ol = Overlay('bitstream/book_design.bit')"
   ]
  },
  {
   "cell_type": "markdown",
   "id": "2ecc988a-5b62-4df9-97b8-6c1eaea7dee6",
   "metadata": {},
   "source": [
    "Inspect the available codes that were given to the IP core in the Vivado block design."
   ]
  },
  {
   "cell_type": "code",
   "execution_count": 2,
   "id": "917bf98d-db53-49b2-b5ca-e180be7de114",
   "metadata": {
    "tags": []
   },
   "outputs": [
    {
     "data": {
      "text/plain": [
       "['docsis_short_encode',\n",
       " 'docsis_medium_encode',\n",
       " 'docsis_long_encode',\n",
       " 'docsis_init_ranging_encode',\n",
       " 'docsis_fine_ranging_encode']"
      ]
     },
     "execution_count": 2,
     "metadata": {},
     "output_type": "execute_result"
    }
   ],
   "source": [
    "fec = ol.ldpc_encoder.sd_fec\n",
    "ldpc_params = fec.available_ldpc_params()\n",
    "ldpc_params"
   ]
  },
  {
   "cell_type": "markdown",
   "id": "f8e63ae6-0fae-4f76-bb21-fddf6e338679",
   "metadata": {},
   "source": [
    "Load all the codes into the SD-FEC block's internal memory, using *share_table_sizes* to get the correct offsets."
   ]
  },
  {
   "cell_type": "code",
   "execution_count": 3,
   "id": "7adcd456-0de7-44b7-81e9-c90fb954eb0b",
   "metadata": {},
   "outputs": [
    {
     "name": "stdout",
     "output_type": "stream",
     "text": [
      "Status     Code ID    SC Offset  LA Offset  QC Offset  Code Name \n",
      "------     ------     ------     ------     ------     ------    \n",
      "Loaded     0          0          0          0          docsis_short_encode\n",
      "Loaded     1          2          2          21         docsis_medium_encode\n",
      "Loaded     2          4          4          54         docsis_long_encode\n",
      "Loaded     3          6          6          97         docsis_init_ranging_encode\n",
      "Loaded     4          8          8          112        docsis_fine_ranging_encode\n"
     ]
    }
   ],
   "source": [
    "fec.CORE_ORDER = 0                         # In order outputs\n",
    "fec.CORE_AXIS_ENABLE = 0                   # Ensure FEC is disabled (000000)\n",
    "\n",
    "sc_offset = 0\n",
    "la_offset = 0\n",
    "qc_offset = 0\n",
    "print(\"{:<10} {:<10} {:<10} {:<10} {:<10} {:<10}\".format('Status','Code ID','SC Offset','LA Offset','QC Offset','Code Name'))\n",
    "print(\"{:<10} {:<10} {:<10} {:<10} {:<10} {:<10}\".format('------','------','------','------','------','------'))\n",
    "for code_id in range(len(ldpc_params)):\n",
    "    \n",
    "    code_name = ldpc_params[code_id]\n",
    "    table_sizes = fec.share_table_size(code_name)\n",
    "\n",
    "    fec.add_ldpc_params(code_id, sc_offset, la_offset, qc_offset, code_name)\n",
    "    print(\"{:<10} {:<10} {:<10} {:<10} {:<10} {:<10}\".format('Loaded',code_id, sc_offset, la_offset, qc_offset, code_name))\n",
    "    \n",
    "    sc_offset += table_sizes['sc_size']\n",
    "    la_offset += table_sizes['la_size']\n",
    "    qc_offset += table_sizes['qc_size']\n",
    "    \n",
    "fec.CORE_AXIS_ENABLE = 63                  # Enable FEC (111111)"
   ]
  },
  {
   "cell_type": "markdown",
   "id": "b82ee397-20bd-4b63-adc3-410b4a8906aa",
   "metadata": {},
   "source": [
    "Choose one of the codes to perform encoding with. A dictionary exists which allows us to see some of the code's parameters."
   ]
  },
  {
   "cell_type": "code",
   "execution_count": 4,
   "id": "c4d46ae4-2371-46c0-92f3-0a4912663e2a",
   "metadata": {},
   "outputs": [
    {
     "name": "stdout",
     "output_type": "stream",
     "text": [
      "Block Length (bits): 1120\n",
      "Information Bits: 840\n",
      "Sub-Matrix Size: 56\n"
     ]
    }
   ],
   "source": [
    "code_name = 'docsis_short_encode'\n",
    "code_id = ldpc_params.index(code_name)\n",
    "\n",
    "n = fec._code_params.ldpc[code_name]['n']\n",
    "k = fec._code_params.ldpc[code_name]['k']\n",
    "p = fec._code_params.ldpc[code_name]['p']\n",
    "\n",
    "print('Block Length (bits): %s\\nInformation Bits: %s\\nSub-Matrix Size: %s' % (n, k, p))"
   ]
  },
  {
   "cell_type": "markdown",
   "id": "a044054d-0df3-41b0-97e7-4c7e95982b71",
   "metadata": {},
   "source": [
    "The TX buffer should be of length k/8 as only information bits are input to the encoder and we are using a stream width of 8.   \n",
    "The RX buffer should be of length n/8 as the encoded data contains both the information bits in addition to parity bits at the end of the block which make up the full block length. Again, we divide by 8 as the stream width is 8.   \n",
    "Data to be encoded is generated and input to the TX buffer."
   ]
  },
  {
   "cell_type": "code",
   "execution_count": 5,
   "id": "c0f3819e-84a0-4ef3-a697-2137c43c84da",
   "metadata": {},
   "outputs": [],
   "source": [
    "K = int(np.ceil(k/8))\n",
    "N = int(np.ceil(n/8))\n",
    "\n",
    "tx_buffer = allocate(shape=(K,), dtype=np.uint8)\n",
    "rx_buffer = allocate(shape=(N,), dtype=np.uint8)\n",
    "\n",
    "for i in range(len(tx_buffer)):\n",
    "    tx_buffer[i] = np.random.randint(1,255)"
   ]
  },
  {
   "cell_type": "markdown",
   "id": "57eeba00-da29-4dac-801f-ffb5b4b070ab",
   "metadata": {},
   "source": [
    "In addition to the data buffers, the SD-FEC core requires that a control register is written to for every block input to the core. If this register is not written to, the core will not output any data and drive tready low such that it blocks further data from being streamed into it. For non-5G LDPC codes, the wordlength of the control register is 32 bits and comprises:   \n",
    "\n",
    "| Field                          | Type        |\n",
    "| -----------                    | ----------- |\n",
    "| External Block ID (31:24)      |  uint8      |\n",
    "| Max No. Iterations (23:18)     |  uint6      |\n",
    "| Terminate on no Change (17:17) |  bit1       |\n",
    "| Terminate on Pass (16:16)      |  bit1       |\n",
    "| Include Parity Output (15:15)  |  bit1       |\n",
    "| Hard Output (14:14)            |  bit1       |\n",
    "| Reserved (13:7)                |  uint7      |\n",
    "| Code Number (6:0)              |  uint7      |\n",
    "\n",
    "Of these fields, only two are used when the SD-FEC block is configured as an encoder. These are *External Block ID* and *Code Number*. \n",
    "\n",
    "The control register is written to over AXI4-Stream as opposed to an AXI4 memory map. This ensures that the control register is aligned with the block for high throughput applications. Therefore, a data buffer is used to transfer the required bits. A Python function has been created to take the fields and perform the neccessary bit packing to form the expected 32-bit word."
   ]
  },
  {
   "cell_type": "code",
   "execution_count": 6,
   "id": "189caadf-e4d3-4835-a995-7bc14ddff2ad",
   "metadata": {},
   "outputs": [
    {
     "name": "stdout",
     "output_type": "stream",
     "text": [
      "Code ID:  0\n",
      "Code Name:  0\n"
     ]
    }
   ],
   "source": [
    "def non_5G_ldpc_ctrl_enc(id, code):\n",
    "    id = '{0:08b}'.format(id)\n",
    "    reserved = '{0:017b}'.format(0)\n",
    "    code = '{0:07b}'.format(code)\n",
    "    \n",
    "    print('Code ID: ', int(id,2))\n",
    "    print('Code Name: ', int(code,2))\n",
    "    \n",
    "    ctrl = id + reserved + code\n",
    "    \n",
    "    return(int(ctrl,2))\n",
    "\n",
    "ctrl_buffer = allocate(shape=(1,), dtype=np.uint32)\n",
    "\n",
    "ctrl_buffer[0] = non_5G_ldpc_ctrl_enc(code_id, 0)"
   ]
  },
  {
   "cell_type": "markdown",
   "id": "44bef770-0f29-43b2-bffc-081ae5f1160c",
   "metadata": {},
   "source": [
    "A function to interpret the status register."
   ]
  },
  {
   "cell_type": "code",
   "execution_count": 7,
   "id": "d82c8f3c-4d6b-47ef-a5e5-dc3124b7d7cb",
   "metadata": {},
   "outputs": [],
   "source": [
    "def non_5G_ldpc_status_enc(status):\n",
    "    binary = '{0:032b}'.format(status)\n",
    "    \n",
    "    id = binary[0:8]\n",
    "    hard_op = binary[17]\n",
    "    op = binary[18]\n",
    "    code = binary[24:32]\n",
    "\n",
    "    print('Code ID: ', int(id,2))\n",
    "    print('Hard Output: ', int(hard_op,2))\n",
    "    print('Operation: ', int(op,2))\n",
    "    print('Code Name: ', int(code,2))\n",
    "    \n",
    "status_buffer = allocate(shape=(1,), dtype=np.uint32)"
   ]
  },
  {
   "cell_type": "markdown",
   "id": "32c75fd6-1703-4707-88e0-649e72937b1d",
   "metadata": {},
   "source": [
    "Transfer the data"
   ]
  },
  {
   "cell_type": "code",
   "execution_count": 8,
   "id": "17392d74-b09a-46b4-9571-aaa1262a105c",
   "metadata": {},
   "outputs": [],
   "source": [
    "dma_data = ol.ldpc_encoder.axi_dma_data\n",
    "dma_ctrl = ol.ldpc_encoder.axi_dma_ctrl\n",
    "\n",
    "dma_ctrl.recvchannel.transfer(status_buffer)\n",
    "dma_data.recvchannel.transfer(rx_buffer)\n",
    "dma_ctrl.sendchannel.transfer(ctrl_buffer)\n",
    "dma_data.sendchannel.transfer(tx_buffer)\n",
    "\n",
    "dma_ctrl.sendchannel.wait()\n",
    "dma_data.sendchannel.wait()\n",
    "dma_data.recvchannel.wait()\n",
    "dma_ctrl.recvchannel.wait()"
   ]
  },
  {
   "cell_type": "markdown",
   "id": "416b4014-8499-4da9-a576-18f8fa4e8bc8",
   "metadata": {},
   "source": [
    "Compare the information bits in the tx and rx buffer, return true if they match. "
   ]
  },
  {
   "cell_type": "code",
   "execution_count": 9,
   "id": "a8b01c32-dbd9-4deb-bf5e-b001190f0e1f",
   "metadata": {},
   "outputs": [
    {
     "name": "stdout",
     "output_type": "stream",
     "text": [
      "\n",
      "Status\n",
      "------\n",
      "Code ID:  0\n",
      "Hard Output:  1\n",
      "Operation:  1\n",
      "Code Name:  0\n",
      "\n",
      "True:  docsis_short_encode\n"
     ]
    }
   ],
   "source": [
    "import pandas as pd\n",
    "pd.set_option('display.max_rows', 10000)\n",
    "\n",
    "print('\\nStatus\\n------')\n",
    "non_5G_ldpc_status_enc(status_buffer[0])\n",
    "\n",
    "tx_frame = pd.DataFrame({'TX': tx_buffer})\n",
    "rx_frame = pd.DataFrame({'RX': rx_buffer})\n",
    "\n",
    "compare = pd.concat([tx_frame, rx_frame], axis=1)\n",
    "\n",
    "if not (tx_buffer[0:(K-1)] == rx_buffer[0:(K-1)]).all():\n",
    "    print('\\nFalse: ', code_name, np.asarray(np.where(tx_buffer[0:(K-1)] != rx_buffer[0:(K-1)])))\n",
    "else:\n",
    "    print('\\nTrue: ', code_name)"
   ]
  },
  {
   "cell_type": "markdown",
   "id": "2ebedb47-3b26-4161-9651-f41f972bd8d9",
   "metadata": {},
   "source": [
    "Save the buffers to the kernel space"
   ]
  },
  {
   "cell_type": "code",
   "execution_count": 10,
   "id": "f1ddb420-56aa-4b9f-bc60-c2018db11479",
   "metadata": {},
   "outputs": [
    {
     "name": "stdout",
     "output_type": "stream",
     "text": [
      "Stored 'tx_buffer' (PynqBuffer)\n",
      "Stored 'rx_buffer' (PynqBuffer)\n"
     ]
    }
   ],
   "source": [
    "%store tx_buffer rx_buffer"
   ]
  }
 ],
 "metadata": {
  "kernelspec": {
   "display_name": "Python 3",
   "language": "python",
   "name": "python3"
  },
  "language_info": {
   "codemirror_mode": {
    "name": "ipython",
    "version": 3
   },
   "file_extension": ".py",
   "mimetype": "text/x-python",
   "name": "python",
   "nbconvert_exporter": "python",
   "pygments_lexer": "ipython3",
   "version": "3.8.2"
  }
 },
 "nbformat": 4,
 "nbformat_minor": 5
}
