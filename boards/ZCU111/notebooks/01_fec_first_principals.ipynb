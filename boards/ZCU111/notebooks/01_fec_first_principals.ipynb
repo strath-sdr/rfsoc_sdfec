{
 "cells": [
  {
   "cell_type": "markdown",
   "id": "dbf90a05-755b-4bc4-94bf-36e68d5f8449",
   "metadata": {},
   "source": [
    "# Forward Error Correction First Principals"
   ]
  },
  {
   "cell_type": "code",
   "execution_count": 2,
   "id": "aedbbda1-c1b1-4f60-b825-f395af5ae9c0",
   "metadata": {},
   "outputs": [],
   "source": [
    "import sys\n",
    "import numpy as np\n",
    "import matplotlib.pyplot as plt\n",
    "from matplotlib.colors import ListedColormap\n",
    "np.set_printoptions(threshold=sys.maxsize)\n",
    "\n",
    "with open('./data/docsis_init_ranging_parity.csv') as f:\n",
    "    H = np.loadtxt(f, delimiter=\",\")\n",
    "    \n",
    "n = len(H[0]) # block size (parity check columns)\n",
    "k = len(H) # information bits (parity check rows)\n",
    "p = 16 # sub-matrix size"
   ]
  },
  {
   "cell_type": "code",
   "execution_count": 23,
   "id": "7530b85a-6360-4553-8130-7cfe341c618c",
   "metadata": {},
   "outputs": [
    {
     "data": {
      "image/png": "[encoded data removed]",
      "text/plain": [
       "<Figure size 800x400 with 1 Axes>"
      ]
     },
     "metadata": {
      "needs_background": "light"
     },
     "output_type": "display_data"
    }
   ],
   "source": [
    "strathclyde = '#6C8EBF'\n",
    "off_green = '#82B366'\n",
    "not_white = '#F1F1F2'\n",
    "cmap = ListedColormap([not_white, strathclyde])\n",
    "\n",
    "plt.matshow(H, cmap=cmap)\n",
    "\n",
    "plt.rcParams['figure.figsize'] = [1, 1]\n",
    "plt.rcParams['figure.dpi'] = 200\n",
    "plt.grid(color=off_green, linewidth=0.5)\n",
    "plt.title('Parity Check Matrix',fontsize=6)\n",
    "\n",
    "x_pos = np.arange(n)[::p]-0.5\n",
    "xlabels = []\n",
    "for i in range(int(n/p)):\n",
    "    label = 'Col %d' % i\n",
    "    xlabels.append(label)\n",
    "plt.xticks(x_pos,xlabels,fontsize=4)\n",
    "plt.tick_params(axis='x',bottom=True,top=False, labelbottom=True, labeltop=False)\n",
    "\n",
    "y_pos = np.arange(k)[::p]-0.5\n",
    "ylabels = []\n",
    "for i in range(int(k/p)):\n",
    "    label = 'Row %d' % i\n",
    "    ylabels.append(label)\n",
    "plt.yticks(y_pos,ylabels,fontsize=4)\n",
    "\n",
    "plt.show()"
   ]
  },
  {
   "cell_type": "code",
   "execution_count": 24,
   "id": "728b6623-7857-4939-a177-42e650f6c697",
   "metadata": {},
   "outputs": [
    {
     "name": "stdout",
     "output_type": "stream",
     "text": [
      "docsis_init_ranging:\n",
      "  n: 160\n",
      "  k: 80\n",
      "  p: 16\n",
      "  sm_array:\n",
      "  - {row: 0, col: 0, shift: 1}\n",
      "  - {row: 0, col: 1, shift: 11}\n",
      "  - {row: 0, col: 2, shift: 10}\n",
      "  - {row: 0, col: 3, shift: 12}\n",
      "  - {row: 0, col: 4, shift: 7}\n",
      "  - {row: 0, col: 5, shift: 9}\n",
      "  - {row: 1, col: 0, shift: 2}\n",
      "  - {row: 1, col: 1, shift: 1}\n",
      "  - {row: 1, col: 2, shift: 14}\n",
      "  - {row: 1, col: 3, shift: 15}\n",
      "  - {row: 1, col: 4, shift: 14}\n",
      "  - {row: 1, col: 5, shift: 14}\n",
      "  - {row: 1, col: 6, shift: 12}\n",
      "  - {row: 2, col: 0, shift: 0}\n",
      "  - {row: 2, col: 1, shift: 9}\n",
      "  - {row: 2, col: 2, shift: 3}\n",
      "  - {row: 2, col: 3, shift: 2}\n",
      "  - {row: 2, col: 6, shift: 11}\n",
      "  - {row: 2, col: 7, shift: 7}\n",
      "  - {row: 3, col: 0, shift: 6}\n",
      "  - {row: 3, col: 1, shift: 8}\n",
      "  - {row: 3, col: 3, shift: 10}\n",
      "  - {row: 3, col: 4, shift: 3}\n",
      "  - {row: 3, col: 7, shift: 10}\n",
      "  - {row: 3, col: 8, shift: 4}\n",
      "  - {row: 4, col: 0, shift: 12}\n",
      "  - {row: 4, col: 1, shift: 13}\n",
      "  - {row: 4, col: 2, shift: 11}\n",
      "  - {row: 4, col: 4, shift: 0}\n",
      "  - {row: 4, col: 8, shift: 5}\n",
      "  - {row: 4, col: 9, shift: 2}\n"
     ]
    }
   ],
   "source": [
    "print('docsis_init_ranging:')\n",
    "print('  n:', n)\n",
    "print('  k:', k)\n",
    "print('  p:', p)\n",
    "print('  sm_array:')\n",
    "for row_i in range(k)[::p]:\n",
    "    for col_i in range(n)[::p]:\n",
    "        sm_row = row_i/p\n",
    "        sm_col = col_i/p\n",
    "        sm_row_0 = H[row_i,col_i:col_i+p]\n",
    "        shift = np.where(sm_row_0==1)\n",
    "        if shift[0].size > 0: # If there is a sub matrix\n",
    "            print('  - {row: %d, col: %d, shift: %d}' % (sm_row, sm_col, shift[0][0]))"
   ]
  }
 ],
 "metadata": {
  "kernelspec": {
   "display_name": "Python 3",
   "language": "python",
   "name": "python3"
  },
  "language_info": {
   "codemirror_mode": {
    "name": "ipython",
    "version": 3
   },
   "file_extension": ".py",
   "mimetype": "text/x-python",
   "name": "python",
   "nbconvert_exporter": "python",
   "pygments_lexer": "ipython3",
   "version": "3.8.2"
  }
 },
 "nbformat": 4,
 "nbformat_minor": 5
}
