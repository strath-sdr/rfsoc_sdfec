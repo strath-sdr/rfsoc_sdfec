{
 "cells": [
  {
   "cell_type": "markdown",
   "id": "fce498a2-f0aa-4655-a533-d609ac24f3aa",
   "metadata": {},
   "source": [
    "# Forward Error Correction Decoding"
   ]
  },
  {
   "cell_type": "code",
   "execution_count": 1,
   "id": "9e954cc4-4f9c-486c-a9ef-1316386fadc1",
   "metadata": {},
   "outputs": [
    {
     "data": {
      "application/javascript": [
       "\n",
       "try {\n",
       "require(['notebook/js/codecell'], function(codecell) {\n",
       "  codecell.CodeCell.options_default.highlight_modes[\n",
       "      'magic_text/x-csrc'] = {'reg':[/^%%microblaze/]};\n",
       "  Jupyter.notebook.events.one('kernel_ready.Kernel', function(){\n",
       "      Jupyter.notebook.get_cells().map(function(cell){\n",
       "          if (cell.cell_type == 'code'){ cell.auto_highlight(); } }) ;\n",
       "  });\n",
       "});\n",
       "} catch (e) {};\n"
      ]
     },
     "metadata": {},
     "output_type": "display_data"
    },
    {
     "data": {
      "application/javascript": [
       "\n",
       "try {\n",
       "require(['notebook/js/codecell'], function(codecell) {\n",
       "  codecell.CodeCell.options_default.highlight_modes[\n",
       "      'magic_text/x-csrc'] = {'reg':[/^%%pybind11/]};\n",
       "  Jupyter.notebook.events.one('kernel_ready.Kernel', function(){\n",
       "      Jupyter.notebook.get_cells().map(function(cell){\n",
       "          if (cell.cell_type == 'code'){ cell.auto_highlight(); } }) ;\n",
       "  });\n",
       "});\n",
       "} catch (e) {};\n"
      ]
     },
     "metadata": {},
     "output_type": "display_data"
    }
   ],
   "source": [
    "from pynq import allocate\n",
    "from pynq import Overlay\n",
    "import numpy as np\n",
    "import xsdfec\n",
    "\n",
    "ol = Overlay('bitstream/ldpc_loopback.bit')"
   ]
  },
  {
   "cell_type": "code",
   "execution_count": 2,
   "id": "7e468daf-da0a-4f10-aa1d-06e407805074",
   "metadata": {},
   "outputs": [],
   "source": [
    "%store -r llrs pad tx_buffer\n",
    "initial_data = tx_buffer"
   ]
  },
  {
   "cell_type": "code",
   "execution_count": 3,
   "id": "b272f9c6-2508-43bd-b9ce-05bb047fd4d3",
   "metadata": {},
   "outputs": [],
   "source": [
    "def format_llr(v):\n",
    "    # Perform symmetric saturation\n",
    "    if v > 7.75:\n",
    "        v = 7.75\n",
    "    elif v < -7.75:\n",
    "        v = -7.75\n",
    "\n",
    "    v = int(v * pow(2,2)) # Bit shift to expose 2 fractional\n",
    "\n",
    "    # Convert to binary (2's complement)\n",
    "    if v >= 0:\n",
    "        b = '{0:06b}'.format(v)\n",
    "    else:\n",
    "        b = '{0:06b}'.format(pow(2,6)+v)\n",
    "\n",
    "    # Sign extend to 8-bits\n",
    "    if b[0] == '0': # Number is positive\n",
    "        b_ex = '00' + b\n",
    "    else: # Number is negative\n",
    "        b_ex = '11' + b\n",
    "\n",
    "    return int(b_ex,2)"
   ]
  },
  {
   "cell_type": "code",
   "execution_count": 4,
   "id": "e90d508b-5560-4921-ac77-263d3d467ecf",
   "metadata": {},
   "outputs": [],
   "source": [
    "llrs_formatted = []\n",
    "for llr in llrs:\n",
    "    llrs_formatted.append(format_llr(llr))"
   ]
  },
  {
   "cell_type": "code",
   "execution_count": 5,
   "id": "86731fba-262b-404a-82b0-36b34ebeb3b2",
   "metadata": {},
   "outputs": [
    {
     "name": "stdout",
     "output_type": "stream",
     "text": [
      "Status     Code ID    SC Offset  LA Offset  QC Offset  Code Name \n",
      "------     ------     ------     ------     ------     ------    \n",
      "Loaded     0          0          0          0          docsis_short\n",
      "Loaded     1          2          2          21         docsis_medium\n",
      "Loaded     2          4          4          54         docsis_long\n",
      "Loaded     3          6          6          97         docsis_init_ranging\n",
      "Loaded     4          8          8          112        docsis_fine_ranging\n",
      "Loaded     5          9          9          120        wifi802_11_cr1_2_648\n",
      "Loaded     6          12         12         163        wifi802_11_cr1_2_1296\n",
      "Loaded     7          15         15         191        wifi802_11_cr1_2_1944\n",
      "Loaded     8          18         18         213        wifi802_11_cr2_3_648\n",
      "Loaded     9          20         20         246        wifi802_11_cr2_3_1296\n",
      "Loaded     10         22         22         272        wifi802_11_cr2_3_1944\n",
      "Loaded     11         24         24         294        wifi802_11_cr3_4_648\n",
      "Loaded     12         26         26         323        wifi802_11_cr3_4_1296\n",
      "Loaded     13         28         28         354        wifi802_11_cr3_4_1944\n",
      "Loaded     14         30         30         376        wifi802_11_cr5_6_648\n",
      "Loaded     15         31         31         400        wifi802_11_cr5_6_1296\n",
      "Loaded     16         32         32         422        wifi802_11_cr5_6_1944\n",
      "Loaded     17         33         33         442        5g_graph1_set1_l5_p32\n",
      "Loaded     18         35         35         468        5g_graph1_set1_l5_p64\n",
      "Loaded     19         37         37         490        5g_graph1_set1_l5_p128\n",
      "\n",
      "Not enough space for QC table: 5g_graph1_set1_l5_p256. Terminating.\n",
      "\n"
     ]
    }
   ],
   "source": [
    "fec = ol.ldpc_decoder.sd_fec\n",
    "ldpc_params = fec.available_ldpc_params()\n",
    "\n",
    "fec.CORE_ORDER = 0                         # In order outputs\n",
    "fec.CORE_AXIS_ENABLE = 0                   # Ensure FEC is disabled (000000)\n",
    "\n",
    "sc_offset = 0\n",
    "la_offset = 0\n",
    "qc_offset = 0\n",
    "print(\"{:<10} {:<10} {:<10} {:<10} {:<10} {:<10}\".format('Status','Code ID','SC Offset','LA Offset','QC Offset','Code Name'))\n",
    "print(\"{:<10} {:<10} {:<10} {:<10} {:<10} {:<10}\".format('------','------','------','------','------','------'))\n",
    "for code_id in range(len(ldpc_params)):\n",
    "    \n",
    "    code_name = ldpc_params[code_id]\n",
    "    sc_table = fec._code_params.ldpc[code_name]['sc_table']\n",
    "    la_table = fec._code_params.ldpc[code_name]['la_table']\n",
    "    qc_table = fec._code_params.ldpc[code_name]['qc_table']\n",
    "    if type(sc_table) != list : sc_table = [sc_table]\n",
    "\n",
    "    if (sc_offset + len(sc_table)) > len(fec.LDPC_SC_TABLE):\n",
    "        print(\"\\nNot enough space for SC table: %s. Terminating.\\n\" % (code_name))\n",
    "        break\n",
    "    if (la_offset*4 + len(la_table)) > len(fec.LDPC_LA_TABLE):\n",
    "        print(\"\\nNot enough space for LA table: %s. Terminating.\\n\" % (code_name))\n",
    "        break\n",
    "    if (qc_offset*4 + len(qc_table)) > len(fec.LDPC_QC_TABLE):\n",
    "        print(\"\\nNot enough space for QC table: %s. Terminating.\\n\" % (code_name))\n",
    "        break\n",
    "    \n",
    "    print(\"{:<10} {:<10} {:<10} {:<10} {:<10} {:<10}\".format('Loaded',code_id, sc_offset, la_offset, qc_offset, code_name))\n",
    "    fec.add_ldpc_params(code_id, sc_offset, la_offset, qc_offset, code_name)\n",
    "\n",
    "    sc_offset += len(sc_table)\n",
    "    la_offset += int(np.ceil(len(la_table)/4))\n",
    "    qc_offset += int(np.ceil(len(qc_table)/4))\n",
    "    \n",
    "fec.CORE_AXIS_ENABLE = 63                  # Enable FEC (111111)"
   ]
  },
  {
   "cell_type": "code",
   "execution_count": 6,
   "id": "25219bdb-a322-4ea8-b3bd-b74b1bada89b",
   "metadata": {},
   "outputs": [
    {
     "name": "stdout",
     "output_type": "stream",
     "text": [
      "Block Length (bits): 1120\n",
      "Information Bits: 840\n",
      "Sub-Matrix Size: 56\n"
     ]
    }
   ],
   "source": [
    "code_name = 'docsis_short'\n",
    "code_id = ldpc_params.index(code_name)\n",
    "\n",
    "n = fec._code_params.ldpc[code_name]['n']\n",
    "k = fec._code_params.ldpc[code_name]['k']\n",
    "p = fec._code_params.ldpc[code_name]['p']\n",
    "\n",
    "print('Block Length (bits): %s\\nInformation Bits: %s\\nSub-Matrix Size: %s' % (n, k, p))"
   ]
  },
  {
   "cell_type": "code",
   "execution_count": 7,
   "id": "39a79402-27b3-480f-87e3-eca6fc6af79c",
   "metadata": {},
   "outputs": [],
   "source": [
    "axis_width = 32 // 8\n",
    "num_words = 1\n",
    "pad = axis_width // num_words\n",
    "\n",
    "K = int(np.ceil(k/8))\n",
    "N = int(np.ceil(n/8))\n",
    "\n",
    "tx_buffer = allocate(shape=(n*pad,), dtype=np.uint8)\n",
    "rx_buffer = allocate(shape=(K*pad,), dtype=np.uint8)\n",
    "\n",
    "j = 0\n",
    "for i in range(len(tx_buffer))[::pad]:\n",
    "    tx_buffer[i] = llrs_formatted[j]\n",
    "    j += 1"
   ]
  },
  {
   "cell_type": "code",
   "execution_count": 8,
   "id": "83f15005-eb12-4aa1-9c6e-e6516be08b9c",
   "metadata": {},
   "outputs": [
    {
     "name": "stdout",
     "output_type": "stream",
     "text": [
      "\tID:  0\n",
      "\tMax Iter:  24\n",
      "\tTerm No Change:  1\n",
      "\tTerm Pass:  1\n",
      "\tParity Pass:  0\n",
      "\tHard OP:  1\n",
      "\tCode:  0\n",
      "\tBinary:  00000000011000110100000000000000\n"
     ]
    }
   ],
   "source": [
    "def non_5G_ldpc_ctrl_dec(id, \n",
    "                         max_iterations, \n",
    "                         term_on_no_change, \n",
    "                         term_on_pass, \n",
    "                         include_parity_op,\n",
    "                         hard_op, \n",
    "                         code):\n",
    "    id = '{0:08b}'.format(id)                               # (31:24) uint8\n",
    "    max_iterations = '{0:06b}'.format(max_iterations)       # (23:18) uint6\n",
    "    term_on_no_change = '{0:01b}'.format(term_on_no_change) # (17:17) bit1\n",
    "    term_on_pass = '{0:01b}'.format(term_on_pass)           # (16:16) bit1\n",
    "    include_parity_op = '{0:01b}'.format(include_parity_op) # (15:15) bit1\n",
    "    hard_op = '{0:01b}'.format(hard_op)                     # (14:14) bit1\n",
    "    reserved = '{0:07b}'.format(0)                          # (13:7) uint7\n",
    "    code = '{0:07b}'.format(code)                           # (6:0) uint7\n",
    "    \n",
    "    print('\\tID: ', int(id,2))\n",
    "    print('\\tMax Iter: ', int(max_iterations,2))\n",
    "    print('\\tTerm No Change: ', int(term_on_no_change,2))\n",
    "    print('\\tTerm Pass: ', int(term_on_pass,2))\n",
    "    print('\\tParity Pass: ', int(include_parity_op,2))\n",
    "    print('\\tHard OP: ', int(hard_op,2))\n",
    "    print('\\tCode: ', int(code,2))\n",
    "    \n",
    "    ctrl = id + max_iterations + term_on_no_change + term_on_pass \\\n",
    "    + include_parity_op + hard_op + reserved + code\n",
    "    print('\\tBinary: ', ctrl)\n",
    "    \n",
    "    return(int(ctrl,2))\n",
    "\n",
    "ctrl_buffer = allocate(shape=(1,), dtype=np.uint32)\n",
    "\n",
    "ctrl_buffer[0] = non_5G_ldpc_ctrl_dec(code_id, 24, 1, 1, 0, 1, 0)"
   ]
  },
  {
   "cell_type": "code",
   "execution_count": 9,
   "id": "033d7e32-a843-46e2-aedc-51b389ccb6a4",
   "metadata": {},
   "outputs": [],
   "source": [
    "status_buffer = allocate(shape=(1,), dtype=np.uint32)"
   ]
  },
  {
   "cell_type": "code",
   "execution_count": 10,
   "id": "6e0baa3b-b969-4d7a-af6b-6eddfaf274c4",
   "metadata": {},
   "outputs": [],
   "source": [
    "dma_data = ol.ldpc_decoder.axi_dma_data\n",
    "dma_ctrl = ol.ldpc_decoder.axi_dma_ctrl\n",
    "\n",
    "dma_ctrl.sendchannel.transfer(ctrl_buffer)\n",
    "dma_data.sendchannel.transfer(tx_buffer)\n",
    "dma_ctrl.recvchannel.transfer(status_buffer)\n",
    "dma_data.recvchannel.transfer(rx_buffer)\n",
    "\n",
    "dma_ctrl.sendchannel.wait()\n",
    "dma_data.sendchannel.wait()\n",
    "dma_data.recvchannel.wait()\n",
    "dma_ctrl.recvchannel.wait()"
   ]
  },
  {
   "cell_type": "code",
   "execution_count": 11,
   "id": "4daa8858-599c-446e-a604-c3a50070ee09",
   "metadata": {},
   "outputs": [
    {
     "data": {
      "text/plain": [
       "PynqBuffer([177,  22, 201, 167, 201, 130, 107,  16, 163,  57, 136, 205,\n",
       "            228, 159,  22, 143, 122,  28, 184, 217,  74,  71,  70, 194,\n",
       "            187, 181, 208, 225, 246, 109, 209, 245,  60, 189, 163, 232,\n",
       "            212, 252, 192, 210, 138, 114,  85, 210, 250, 250,   9, 100,\n",
       "              5,   4,  41,  44, 182,  81,  49,  72, 207,  52, 123,  87,\n",
       "              4, 199, 135, 144,  41, 160, 125, 150, 144, 252,  71, 120,\n",
       "             35, 103, 254, 254,  22, 168, 181, 198, 194, 203, 151,  15,\n",
       "             85, 119, 113,  19, 173,  62,  12, 253, 236, 170, 193, 222,\n",
       "             12, 234,  57,  62, 139, 114, 194,  71, 118], dtype=uint8)"
      ]
     },
     "execution_count": 11,
     "metadata": {},
     "output_type": "execute_result"
    }
   ],
   "source": [
    "rx_buffer[::4]"
   ]
  },
  {
   "cell_type": "code",
   "execution_count": 12,
   "id": "133c2b0d-e815-420f-8d7d-74a33e084588",
   "metadata": {},
   "outputs": [
    {
     "data": {
      "text/plain": [
       "PynqBuffer([177,  22, 201, 167, 201, 130, 107,  16, 163,  57, 136, 205,\n",
       "            228, 159,  22, 143, 122,  28, 184, 217,  74,  71,  70, 194,\n",
       "            187, 181, 208, 225, 246, 109, 209, 245,  60, 189, 163, 232,\n",
       "            212, 252, 192, 210, 138, 114,  85, 210, 250, 250,   9, 100,\n",
       "              5,   4,  41,  44, 182,  81,  49,  72, 207,  52, 123,  87,\n",
       "              4, 199, 135, 144,  41, 160, 125, 150, 144, 252,  71, 120,\n",
       "             35, 103, 254, 254,  22, 168, 181, 198, 194, 203, 151,  15,\n",
       "             85, 119, 113,  19, 173,  62,  12, 253, 236, 170, 193, 222,\n",
       "             12, 234,  57,  62, 139, 114, 194,  71, 118], dtype=uint8)"
      ]
     },
     "execution_count": 12,
     "metadata": {},
     "output_type": "execute_result"
    }
   ],
   "source": [
    "initial_data[::4]"
   ]
  },
  {
   "cell_type": "code",
   "execution_count": 13,
   "id": "7aae716d-4cad-4f03-a425-94a2e132946d",
   "metadata": {},
   "outputs": [],
   "source": [
    "for i in range(len(rx_buffer))[::pad]:\n",
    "    if rx_buffer[i] != initial_data[i]:\n",
    "        print('Error detected at index: %d. %d != %d' % (i, rx_buffer[i], initial_data[i]))"
   ]
  },
  {
   "cell_type": "code",
   "execution_count": null,
   "id": "edb89aab-0a50-438d-98d8-c08e387e4980",
   "metadata": {},
   "outputs": [],
   "source": []
  }
 ],
 "metadata": {
  "kernelspec": {
   "display_name": "Python 3",
   "language": "python",
   "name": "python3"
  },
  "language_info": {
   "codemirror_mode": {
    "name": "ipython",
    "version": 3
   },
   "file_extension": ".py",
   "mimetype": "text/x-python",
   "name": "python",
   "nbconvert_exporter": "python",
   "pygments_lexer": "ipython3",
   "version": "3.8.2"
  }
 },
 "nbformat": 4,
 "nbformat_minor": 5
}
