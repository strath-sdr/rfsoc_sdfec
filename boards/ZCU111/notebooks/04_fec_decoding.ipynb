{
 "cells": [
  {
   "cell_type": "markdown",
   "id": "fce498a2-f0aa-4655-a533-d609ac24f3aa",
   "metadata": {},
   "source": [
    "# Forward Error Correction Decoding"
   ]
  },
  {
   "cell_type": "code",
   "execution_count": 1,
   "id": "9e954cc4-4f9c-486c-a9ef-1316386fadc1",
   "metadata": {},
   "outputs": [
    {
     "data": {
      "application/javascript": [
       "\n",
       "try {\n",
       "require(['notebook/js/codecell'], function(codecell) {\n",
       "  codecell.CodeCell.options_default.highlight_modes[\n",
       "      'magic_text/x-csrc'] = {'reg':[/^%%microblaze/]};\n",
       "  Jupyter.notebook.events.one('kernel_ready.Kernel', function(){\n",
       "      Jupyter.notebook.get_cells().map(function(cell){\n",
       "          if (cell.cell_type == 'code'){ cell.auto_highlight(); } }) ;\n",
       "  });\n",
       "});\n",
       "} catch (e) {};\n"
      ]
     },
     "metadata": {},
     "output_type": "display_data"
    },
    {
     "data": {
      "application/javascript": [
       "\n",
       "try {\n",
       "require(['notebook/js/codecell'], function(codecell) {\n",
       "  codecell.CodeCell.options_default.highlight_modes[\n",
       "      'magic_text/x-csrc'] = {'reg':[/^%%pybind11/]};\n",
       "  Jupyter.notebook.events.one('kernel_ready.Kernel', function(){\n",
       "      Jupyter.notebook.get_cells().map(function(cell){\n",
       "          if (cell.cell_type == 'code'){ cell.auto_highlight(); } }) ;\n",
       "  });\n",
       "});\n",
       "} catch (e) {};\n"
      ]
     },
     "metadata": {},
     "output_type": "display_data"
    }
   ],
   "source": [
    "from pynq import allocate\n",
    "from pynq import Overlay\n",
    "import numpy as np\n",
    "import xsdfec\n",
    "\n",
    "ol = Overlay('bitstream/book_design.bit')"
   ]
  },
  {
   "cell_type": "code",
   "execution_count": 2,
   "id": "7e468daf-da0a-4f10-aa1d-06e407805074",
   "metadata": {},
   "outputs": [],
   "source": [
    "%store -r llrs tx_buffer\n",
    "initial_data = tx_buffer"
   ]
  },
  {
   "cell_type": "markdown",
   "id": "47014ebd-1108-4923-8c76-ba4982010944",
   "metadata": {},
   "source": [
    "The SD-FEC decoder accepts data in the form *fix6_2*. This data is symmetrically saturated meaning the range is from -7.75 to 7.75. Any values outside of this range are saturated to these maximum and minimum values. If too much saturation is occurring, the performance of the decoder may be affected. To avoid this, the data can be scaled by a number less than 1.\n",
    "\n",
    "Additionally, this data must be sign extended to the nearest byte. Taking the limits as an example, the format\n",
    "\n",
    "| Decimal Value | Binary Value | Unsigned Value |\n",
    "| -----------   | -----------  | -----------    |\n",
    "| 7.75          |  00011111    | 31             |\n",
    "| -7.75         |  11100001    | 225            |\n",
    "\n",
    "A Python function *format_llr* for formatting the data correctly is used to convert the soft data."
   ]
  },
  {
   "cell_type": "code",
   "execution_count": 3,
   "id": "b272f9c6-2508-43bd-b9ce-05bb047fd4d3",
   "metadata": {},
   "outputs": [],
   "source": [
    "def format_llr(v):\n",
    "    # Perform symmetric saturation\n",
    "    if v > 7.75:\n",
    "        v = 7.75\n",
    "    elif v < -7.75:\n",
    "        v = -7.75\n",
    "\n",
    "    v = int(v * pow(2,2)) # Bit shift to expose 2 fractional\n",
    "\n",
    "    # Convert to binary (2's complement)\n",
    "    if v >= 0:\n",
    "        b = '{0:06b}'.format(v)\n",
    "    else:\n",
    "        b = '{0:06b}'.format(pow(2,6)+v)\n",
    "\n",
    "    # Sign extend to 8-bits\n",
    "    if b[0] == '0': # Number is positive\n",
    "        b_ex = '00' + b\n",
    "    else: # Number is negative\n",
    "        b_ex = '11' + b\n",
    "\n",
    "    return int(b_ex,2)"
   ]
  },
  {
   "cell_type": "markdown",
   "id": "0837494f-0fb3-4e71-8dc0-888795d5f48a",
   "metadata": {},
   "source": [
    "Format all the LLR values for the decoder"
   ]
  },
  {
   "cell_type": "code",
   "execution_count": 4,
   "id": "e90d508b-5560-4921-ac77-263d3d467ecf",
   "metadata": {},
   "outputs": [],
   "source": [
    "llrs_formatted = []\n",
    "for llr in llrs:\n",
    "    llrs_formatted.append(format_llr(llr))"
   ]
  },
  {
   "cell_type": "markdown",
   "id": "27a7b8ba-48fe-4929-9115-7a9bcfbfde0f",
   "metadata": {},
   "source": [
    "Load the LDPC codes into the decoder"
   ]
  },
  {
   "cell_type": "code",
   "execution_count": 5,
   "id": "29a79dcd-9552-4115-b09d-2e1988cc7261",
   "metadata": {},
   "outputs": [
    {
     "name": "stdout",
     "output_type": "stream",
     "text": [
      "Status     Code ID    SC Offset  LA Offset  QC Offset  Code Name \n",
      "------     ------     ------     ------     ------     ------    \n",
      "Loaded     0          0          0          0          docsis_short\n",
      "Loaded     1          2          2          21         docsis_medium\n",
      "Loaded     2          4          4          54         docsis_long\n",
      "Loaded     3          6          6          97         docsis_init_ranging\n",
      "Loaded     4          8          8          112        docsis_fine_ranging\n"
     ]
    }
   ],
   "source": [
    "fec = ol.ldpc_decoder.sd_fec\n",
    "ldpc_params = fec.available_ldpc_params()\n",
    "\n",
    "fec.CORE_ORDER = 0                         # In order outputs\n",
    "fec.CORE_AXIS_ENABLE = 0                   # Ensure FEC is disabled (000000)\n",
    "\n",
    "sc_offset = 0\n",
    "la_offset = 0\n",
    "qc_offset = 0\n",
    "print(\"{:<10} {:<10} {:<10} {:<10} {:<10} {:<10}\".format('Status','Code ID','SC Offset','LA Offset','QC Offset','Code Name'))\n",
    "print(\"{:<10} {:<10} {:<10} {:<10} {:<10} {:<10}\".format('------','------','------','------','------','------'))\n",
    "for code_id in range(len(ldpc_params)):\n",
    "    \n",
    "    code_name = ldpc_params[code_id]\n",
    "    table_sizes = fec.share_table_size(code_name)\n",
    "\n",
    "    fec.add_ldpc_params(code_id, sc_offset, la_offset, qc_offset, code_name)\n",
    "    print(\"{:<10} {:<10} {:<10} {:<10} {:<10} {:<10}\".format('Loaded',code_id, sc_offset, la_offset, qc_offset, code_name))\n",
    "    \n",
    "    sc_offset += table_sizes['sc_size']\n",
    "    la_offset += table_sizes['la_size']\n",
    "    qc_offset += table_sizes['qc_size']\n",
    "    \n",
    "fec.CORE_AXIS_ENABLE = 63                  # Enable FEC (111111)"
   ]
  },
  {
   "cell_type": "markdown",
   "id": "07e5cb2e-549e-4b7d-945d-a060acbb0932",
   "metadata": {},
   "source": [
    "Choose the appropriate code to perform decoding."
   ]
  },
  {
   "cell_type": "code",
   "execution_count": 6,
   "id": "25219bdb-a322-4ea8-b3bd-b74b1bada89b",
   "metadata": {},
   "outputs": [
    {
     "name": "stdout",
     "output_type": "stream",
     "text": [
      "Block Length (bits): 1120\n",
      "Information Bits: 840\n",
      "Sub-Matrix Size: 56\n"
     ]
    }
   ],
   "source": [
    "code_name = 'docsis_short'\n",
    "code_id = ldpc_params.index(code_name)\n",
    "\n",
    "n = fec._code_params.ldpc[code_name]['n']\n",
    "k = fec._code_params.ldpc[code_name]['k']\n",
    "p = fec._code_params.ldpc[code_name]['p']\n",
    "\n",
    "print('Block Length (bits): %s\\nInformation Bits: %s\\nSub-Matrix Size: %s' % (n, k, p))"
   ]
  },
  {
   "cell_type": "markdown",
   "id": "e73ce596-351d-4e51-bca7-f26b600fc785",
   "metadata": {},
   "source": [
    "The LLR values are for each bit, therefore the buffer length input to the decoder should be the full block size in bits.    \n",
    "The output from the decoder will only contain the information bits (with the control word we will provide). The RX buffer should be k/8 as the stream width is 8."
   ]
  },
  {
   "cell_type": "code",
   "execution_count": 7,
   "id": "39a79402-27b3-480f-87e3-eca6fc6af79c",
   "metadata": {},
   "outputs": [],
   "source": [
    "K = int(np.ceil(k/8))\n",
    "N = int(np.ceil(n/8))\n",
    "\n",
    "tx_buffer = allocate(shape=(n,), dtype=np.uint8)\n",
    "rx_buffer = allocate(shape=(K,), dtype=np.uint8)\n",
    "\n",
    "j = 0\n",
    "for i in range(len(tx_buffer)):\n",
    "    tx_buffer[i] = llrs_formatted[j]\n",
    "    j += 1"
   ]
  },
  {
   "cell_type": "markdown",
   "id": "5b92e458-6721-4dd8-a674-901997c3dc84",
   "metadata": {},
   "source": [
    "| Field                          | Type        |\n",
    "| -----------                    | ----------- |\n",
    "| External Block ID (31:24)      |  uint8      |\n",
    "| Max No. Iterations (23:18)     |  uint6      |\n",
    "| Terminate on no Change (17:17) |  bit1       |\n",
    "| Terminate on Pass (16:16)      |  bit1       |\n",
    "| Include Parity Output (15:15)  |  bit1       |\n",
    "| Hard Output (14:14)            |  bit1       |\n",
    "| Reserved (13:7)                |  uint7      |\n",
    "| Code Number (6:0)              |  uint7      |"
   ]
  },
  {
   "cell_type": "code",
   "execution_count": 8,
   "id": "83f15005-eb12-4aa1-9c6e-e6516be08b9c",
   "metadata": {},
   "outputs": [
    {
     "name": "stdout",
     "output_type": "stream",
     "text": [
      "\tID:  0\n",
      "\tMax Iter:  24\n",
      "\tTerm No Change:  1\n",
      "\tTerm Pass:  1\n",
      "\tParity Pass:  0\n",
      "\tHard OP:  1\n",
      "\tCode:  0\n",
      "\tBinary:  00000000011000110100000000000000\n"
     ]
    }
   ],
   "source": [
    "def non_5G_ldpc_ctrl_dec(id, \n",
    "                         max_iterations, \n",
    "                         term_on_no_change, \n",
    "                         term_on_pass, \n",
    "                         include_parity_op,\n",
    "                         hard_op, \n",
    "                         code):\n",
    "    id = '{0:08b}'.format(id)                               # (31:24) uint8\n",
    "    max_iterations = '{0:06b}'.format(max_iterations)       # (23:18) uint6\n",
    "    term_on_no_change = '{0:01b}'.format(term_on_no_change) # (17:17) bit1\n",
    "    term_on_pass = '{0:01b}'.format(term_on_pass)           # (16:16) bit1\n",
    "    include_parity_op = '{0:01b}'.format(include_parity_op) # (15:15) bit1\n",
    "    hard_op = '{0:01b}'.format(hard_op)                     # (14:14) bit1\n",
    "    reserved = '{0:07b}'.format(0)                          # (13:7) uint7\n",
    "    code = '{0:07b}'.format(code)                           # (6:0) uint7\n",
    "    \n",
    "    print('\\tID: ', int(id,2))\n",
    "    print('\\tMax Iter: ', int(max_iterations,2))\n",
    "    print('\\tTerm No Change: ', int(term_on_no_change,2))\n",
    "    print('\\tTerm Pass: ', int(term_on_pass,2))\n",
    "    print('\\tParity Pass: ', int(include_parity_op,2))\n",
    "    print('\\tHard OP: ', int(hard_op,2))\n",
    "    print('\\tCode: ', int(code,2))\n",
    "    \n",
    "    ctrl = id + max_iterations + term_on_no_change + term_on_pass \\\n",
    "    + include_parity_op + hard_op + reserved + code\n",
    "    print('\\tBinary: ', ctrl)\n",
    "    \n",
    "    return(int(ctrl,2))\n",
    "\n",
    "ctrl_buffer = allocate(shape=(1,), dtype=np.uint32)\n",
    "\n",
    "ctrl_buffer[0] = non_5G_ldpc_ctrl_dec(code_id, 24, 1, 1, 0, 1, 0)"
   ]
  },
  {
   "cell_type": "code",
   "execution_count": 9,
   "id": "033d7e32-a843-46e2-aedc-51b389ccb6a4",
   "metadata": {},
   "outputs": [],
   "source": [
    "status_buffer = allocate(shape=(1,), dtype=np.uint32)"
   ]
  },
  {
   "cell_type": "markdown",
   "id": "8c94cfaa-a5c5-45e9-bd5c-804d47715aa2",
   "metadata": {},
   "source": [
    "Transfer data"
   ]
  },
  {
   "cell_type": "code",
   "execution_count": 10,
   "id": "6e0baa3b-b969-4d7a-af6b-6eddfaf274c4",
   "metadata": {},
   "outputs": [],
   "source": [
    "dma_data = ol.ldpc_decoder.axi_dma_data\n",
    "dma_ctrl = ol.ldpc_decoder.axi_dma_ctrl\n",
    "\n",
    "dma_ctrl.recvchannel.transfer(status_buffer)\n",
    "dma_data.recvchannel.transfer(rx_buffer)\n",
    "dma_ctrl.sendchannel.transfer(ctrl_buffer)\n",
    "dma_data.sendchannel.transfer(tx_buffer)\n",
    "\n",
    "dma_ctrl.sendchannel.wait()\n",
    "dma_data.sendchannel.wait()\n",
    "dma_data.recvchannel.wait()\n",
    "dma_ctrl.recvchannel.wait()"
   ]
  },
  {
   "cell_type": "markdown",
   "id": "af566e92-ec44-49fa-8c60-bf69227f9efd",
   "metadata": {},
   "source": [
    "Compare the received, decoded data with the initial data that was sent in 02_fec_encoding."
   ]
  },
  {
   "cell_type": "code",
   "execution_count": 11,
   "id": "4daa8858-599c-446e-a604-c3a50070ee09",
   "metadata": {},
   "outputs": [
    {
     "data": {
      "text/plain": [
       "PynqBuffer([241, 224,  11,  30, 162, 174, 146, 113, 153,  45,  79, 238,\n",
       "             96,  72, 124, 136, 142, 239, 244,  81, 246, 198, 126,  15,\n",
       "             30, 213, 187, 119, 222,  66,  60,  21, 117, 200,  57, 193,\n",
       "             98, 150,  78, 113, 202,  79, 243,  89, 187, 221, 237,  43,\n",
       "            155, 133,  69,  94, 154,  68, 122,  58, 216,  31, 183, 118,\n",
       "             52,  29, 134, 102, 250, 200, 252,  36, 111,  97, 161, 124,\n",
       "            140,  62,  42, 196, 246, 244, 187, 243,  77, 192, 176, 182,\n",
       "            217,  73,  70,  49, 209, 241,  55,  26, 193,   8, 189, 175,\n",
       "            214, 177,  97,  17, 207, 196, 156, 251, 112], dtype=uint8)"
      ]
     },
     "execution_count": 11,
     "metadata": {},
     "output_type": "execute_result"
    }
   ],
   "source": [
    "rx_buffer"
   ]
  },
  {
   "cell_type": "code",
   "execution_count": 12,
   "id": "133c2b0d-e815-420f-8d7d-74a33e084588",
   "metadata": {},
   "outputs": [
    {
     "data": {
      "text/plain": [
       "PynqBuffer([241, 224,  11,  30, 162, 174, 146, 113, 153,  45,  79, 238,\n",
       "             96,  72, 124, 136, 142, 239, 244,  81, 246, 198, 126,  15,\n",
       "             30, 213, 187, 119, 222,  66,  60,  21, 117, 200,  57, 193,\n",
       "             98, 150,  78, 113, 202,  79, 243,  89, 187, 221, 237,  43,\n",
       "            155, 133,  69,  94, 154,  68, 122,  58, 216,  31, 183, 118,\n",
       "             52,  29, 134, 102, 250, 200, 252,  36, 111,  97, 161, 124,\n",
       "            140,  62,  42, 196, 246, 244, 187, 243,  77, 192, 176, 182,\n",
       "            217,  73,  70,  49, 209, 241,  55,  26, 193,   8, 189, 175,\n",
       "            214, 177,  97,  17, 207, 196, 156, 251, 112], dtype=uint8)"
      ]
     },
     "execution_count": 12,
     "metadata": {},
     "output_type": "execute_result"
    }
   ],
   "source": [
    "initial_data"
   ]
  },
  {
   "cell_type": "code",
   "execution_count": 13,
   "id": "7aae716d-4cad-4f03-a425-94a2e132946d",
   "metadata": {},
   "outputs": [],
   "source": [
    "for i in range(len(rx_buffer)):\n",
    "    if rx_buffer[i] != initial_data[i]:\n",
    "        print('Error detected at index: %d. %d != %d' % (i, rx_buffer[i], initial_data[i]))"
   ]
  }
 ],
 "metadata": {
  "kernelspec": {
   "display_name": "Python 3",
   "language": "python",
   "name": "python3"
  },
  "language_info": {
   "codemirror_mode": {
    "name": "ipython",
    "version": 3
   },
   "file_extension": ".py",
   "mimetype": "text/x-python",
   "name": "python",
   "nbconvert_exporter": "python",
   "pygments_lexer": "ipython3",
   "version": "3.8.2"
  }
 },
 "nbformat": 4,
 "nbformat_minor": 5
}
